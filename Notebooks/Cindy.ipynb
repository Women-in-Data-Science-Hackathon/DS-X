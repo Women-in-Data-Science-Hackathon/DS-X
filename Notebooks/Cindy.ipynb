{
 "cells": [
  {
   "cell_type": "code",
   "execution_count": 2,
   "id": "004aec09",
   "metadata": {},
   "outputs": [],
   "source": [
    "# imports\n",
    "\n",
    "import numpy as np\n",
    "import pandas as pd"
   ]
  },
  {
   "cell_type": "code",
   "execution_count": 8,
   "id": "0e7b1a63",
   "metadata": {},
   "outputs": [],
   "source": [
    "#load data\n",
    "econ2 = pd.read_csv(\"/Users/Owner/Desktop/DS_X/DS-X/Data/national_income_ ppp_usd.csv\", sep=\";\",skiprows=1 )\n"
   ]
  },
  {
   "cell_type": "code",
   "execution_count": 9,
   "id": "9e333700",
   "metadata": {},
   "outputs": [
    {
     "data": {
      "text/plain": [
       "<bound method NDFrame.head of          Country  Percentile   \\\n",
       "0     Afghanistan        pall   \n",
       "1         Albania        pall   \n",
       "2         Algeria        pall   \n",
       "3         Andorra        pall   \n",
       "4          Angola        pall   \n",
       "..            ...         ...   \n",
       "259   World (PPP)        pall   \n",
       "260         Yemen        pall   \n",
       "261        Zambia        pall   \n",
       "262      Zanzibar        pall   \n",
       "263      Zimbabwe        pall   \n",
       "\n",
       "     anninc_992_i_2024\\nNational income\\nTotal population | average income or wealth | adults | individual |  | ppp | constant (2024)\\n2024  \\\n",
       "0                                            3399.8906                                                                                        \n",
       "1                                           15332.9169                                                                                        \n",
       "2                                           14893.2440                                                                                        \n",
       "3                                           55394.3914                                                                                        \n",
       "4                                           10306.9379                                                                                        \n",
       "..                                                 ...                                                                                        \n",
       "259                                         20192.1331                                                                                        \n",
       "260                                          1494.6640                                                                                        \n",
       "261                                          5753.8817                                                                                        \n",
       "262                                          6252.2511                                                                                        \n",
       "263                                          4014.8058                                                                                        \n",
       "\n",
       "     agdpro_992_i_2024\\nGross domestic product\\nTotal population | average income or wealth | adults | individual |  | ppp | constant (2024)\\n2024  \\\n",
       "0                                            3621.2671                                                                                               \n",
       "1                                           18304.5760                                                                                               \n",
       "2                                           16548.3293                                                                                               \n",
       "3                                           61492.2371                                                                                               \n",
       "4                                           12498.2498                                                                                               \n",
       "..                                                 ...                                                                                               \n",
       "259                                         23922.1305                                                                                               \n",
       "260                                          1549.4758                                                                                               \n",
       "261                                          6199.2727                                                                                               \n",
       "262                                          6864.4045                                                                                               \n",
       "263                                          4109.2024                                                                                               \n",
       "\n",
       "     inyixx_999_i_2024\\nNational income price index\\nTotal population | index | all ages | individual |  | ppp | constant (2024)\\n2024  \n",
       "0                                                  NaN                                                                                  \n",
       "1                                                  NaN                                                                                  \n",
       "2                                                  NaN                                                                                  \n",
       "3                                                  NaN                                                                                  \n",
       "4                                                  NaN                                                                                  \n",
       "..                                                 ...                                                                                  \n",
       "259                                                NaN                                                                                  \n",
       "260                                                NaN                                                                                  \n",
       "261                                                NaN                                                                                  \n",
       "262                                                NaN                                                                                  \n",
       "263                                                NaN                                                                                  \n",
       "\n",
       "[264 rows x 5 columns]>"
      ]
     },
     "execution_count": 9,
     "metadata": {},
     "output_type": "execute_result"
    }
   ],
   "source": [
    "econ2.head"
   ]
  },
  {
   "cell_type": "code",
   "execution_count": 30,
   "id": "b6b2f8eb",
   "metadata": {},
   "outputs": [
    {
     "data": {
      "text/plain": [
       "Index(['Country ', 'Percentile ', 'Average National Income (USD)',\n",
       "       'Average GDP per adult',\n",
       "       'inyixx_999_i_2024\\nNational income price index\\nTotal population | index | all ages | individual |  | ppp | constant (2024)\\n2024'],\n",
       "      dtype='object')"
      ]
     },
     "execution_count": 30,
     "metadata": {},
     "output_type": "execute_result"
    }
   ],
   "source": [
    "# examine data\n",
    "econ2.columns       #data  for 2024\n",
    "\n"
   ]
  },
  {
   "cell_type": "code",
   "execution_count": 31,
   "id": "632c24c8",
   "metadata": {},
   "outputs": [],
   "source": [
    "# rename column namestomakesended\n",
    "\n",
    "econ2 = econ2.rename(columns={\n",
    "    \"anninc_992_i_2024\\nNational income\\nTotal population | average income or wealth | adults | individual |  | ppp | constant (2024)\\n2024\": \"Average National Income (USD)\",\n",
    "    \"agdpro_992_i_2024\\nGross domestic product\\nTotal population | average income or wealth | adults | individual |  | ppp | constant (2024)\\n2024\": \"Average GDP per adult(USD)\"\n",
    "})\n",
    "\n",
    "# drop percentile column all pall/na\n",
    "econ2 = econ2.drop(columns=[\"Percentile \", \"inyixx_999_i_2024\\nNational income price index\\nTotal population | index | all ages | individual |  | ppp | constant (2024)\\n2024\"])\n",
    "\n"
   ]
  },
  {
   "cell_type": "markdown",
   "id": "ca3aa443",
   "metadata": {},
   "source": [
    "Varibale Meaning:\n",
    "\n",
    " 1) Average national income per adult (entire population), measured in constant 2024 PPP-adjusted international dollars.\n",
    "\n",
    "2)  Average GDP per person\n"
   ]
  },
  {
   "cell_type": "code",
   "execution_count": 32,
   "id": "c3813e83",
   "metadata": {},
   "outputs": [
    {
     "data": {
      "text/html": [
       "<div>\n",
       "<style scoped>\n",
       "    .dataframe tbody tr th:only-of-type {\n",
       "        vertical-align: middle;\n",
       "    }\n",
       "\n",
       "    .dataframe tbody tr th {\n",
       "        vertical-align: top;\n",
       "    }\n",
       "\n",
       "    .dataframe thead th {\n",
       "        text-align: right;\n",
       "    }\n",
       "</style>\n",
       "<table border=\"1\" class=\"dataframe\">\n",
       "  <thead>\n",
       "    <tr style=\"text-align: right;\">\n",
       "      <th></th>\n",
       "      <th>Country</th>\n",
       "      <th>Average National Income (USD)</th>\n",
       "      <th>Average GDP per adult</th>\n",
       "    </tr>\n",
       "  </thead>\n",
       "  <tbody>\n",
       "    <tr>\n",
       "      <th>0</th>\n",
       "      <td>Afghanistan</td>\n",
       "      <td>3399.8906</td>\n",
       "      <td>3621.2671</td>\n",
       "    </tr>\n",
       "    <tr>\n",
       "      <th>1</th>\n",
       "      <td>Albania</td>\n",
       "      <td>15332.9169</td>\n",
       "      <td>18304.5760</td>\n",
       "    </tr>\n",
       "    <tr>\n",
       "      <th>2</th>\n",
       "      <td>Algeria</td>\n",
       "      <td>14893.2440</td>\n",
       "      <td>16548.3293</td>\n",
       "    </tr>\n",
       "    <tr>\n",
       "      <th>3</th>\n",
       "      <td>Andorra</td>\n",
       "      <td>55394.3914</td>\n",
       "      <td>61492.2371</td>\n",
       "    </tr>\n",
       "    <tr>\n",
       "      <th>4</th>\n",
       "      <td>Angola</td>\n",
       "      <td>10306.9379</td>\n",
       "      <td>12498.2498</td>\n",
       "    </tr>\n",
       "    <tr>\n",
       "      <th>...</th>\n",
       "      <td>...</td>\n",
       "      <td>...</td>\n",
       "      <td>...</td>\n",
       "    </tr>\n",
       "    <tr>\n",
       "      <th>259</th>\n",
       "      <td>World (PPP)</td>\n",
       "      <td>20192.1331</td>\n",
       "      <td>23922.1305</td>\n",
       "    </tr>\n",
       "    <tr>\n",
       "      <th>260</th>\n",
       "      <td>Yemen</td>\n",
       "      <td>1494.6640</td>\n",
       "      <td>1549.4758</td>\n",
       "    </tr>\n",
       "    <tr>\n",
       "      <th>261</th>\n",
       "      <td>Zambia</td>\n",
       "      <td>5753.8817</td>\n",
       "      <td>6199.2727</td>\n",
       "    </tr>\n",
       "    <tr>\n",
       "      <th>262</th>\n",
       "      <td>Zanzibar</td>\n",
       "      <td>6252.2511</td>\n",
       "      <td>6864.4045</td>\n",
       "    </tr>\n",
       "    <tr>\n",
       "      <th>263</th>\n",
       "      <td>Zimbabwe</td>\n",
       "      <td>4014.8058</td>\n",
       "      <td>4109.2024</td>\n",
       "    </tr>\n",
       "  </tbody>\n",
       "</table>\n",
       "<p>264 rows × 3 columns</p>\n",
       "</div>"
      ],
      "text/plain": [
       "         Country   Average National Income (USD)  Average GDP per adult\n",
       "0     Afghanistan                      3399.8906              3621.2671\n",
       "1         Albania                     15332.9169             18304.5760\n",
       "2         Algeria                     14893.2440             16548.3293\n",
       "3         Andorra                     55394.3914             61492.2371\n",
       "4          Angola                     10306.9379             12498.2498\n",
       "..            ...                            ...                    ...\n",
       "259   World (PPP)                     20192.1331             23922.1305\n",
       "260         Yemen                      1494.6640              1549.4758\n",
       "261        Zambia                      5753.8817              6199.2727\n",
       "262      Zanzibar                      6252.2511              6864.4045\n",
       "263      Zimbabwe                      4014.8058              4109.2024\n",
       "\n",
       "[264 rows x 3 columns]"
      ]
     },
     "execution_count": 32,
     "metadata": {},
     "output_type": "execute_result"
    }
   ],
   "source": [
    "econ2"
   ]
  }
 ],
 "metadata": {
  "kernelspec": {
   "display_name": "base",
   "language": "python",
   "name": "python3"
  },
  "language_info": {
   "codemirror_mode": {
    "name": "ipython",
    "version": 3
   },
   "file_extension": ".py",
   "mimetype": "text/x-python",
   "name": "python",
   "nbconvert_exporter": "python",
   "pygments_lexer": "ipython3",
   "version": "3.11.5"
  }
 },
 "nbformat": 4,
 "nbformat_minor": 5
}
