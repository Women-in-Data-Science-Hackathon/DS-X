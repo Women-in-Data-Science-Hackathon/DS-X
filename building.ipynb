{
  "cells": [
    {
      "cell_type": "code",
      "execution_count": 1,
      "metadata": {
        "id": "sCC53EcJvypq"
      },
      "outputs": [],
      "source": [
        "import pandas as pd"
      ]
    },
    {
      "cell_type": "code",
      "execution_count": 2,
      "metadata": {
        "id": "OKlugATPkjMR"
      },
      "outputs": [],
      "source": [
        "df_age = pd.read_csv(\"/Users/diyavora/Desktop/merging/ages.csv\")\n",
        "df_gdp=pd.read_csv(\"/Users/diyavora/Desktop/merging/gdp.csv\",on_bad_lines='skip')\n",
        "df_schools=pd.read_csv(\"/Users/diyavora/Desktop/merging/schools.csv\")\n",
        "df_visas = pd.read_csv('/Users/diyavora/Desktop/merging/country_list.csv')"
      ]
    },
    {
      "cell_type": "code",
      "execution_count": 3,
      "metadata": {
        "colab": {
          "base_uri": "https://localhost:8080/",
          "height": 206
        },
        "id": "IEemf4dCluOH",
        "outputId": "3be1c250-415c-4461-b9e7-ddfc7a2b6f41"
      },
      "outputs": [
        {
          "data": {
            "application/vnd.microsoft.datawrangler.viewer.v0+json": {
              "columns": [
                {
                  "name": "index",
                  "rawType": "int64",
                  "type": "integer"
                },
                {
                  "name": "Country",
                  "rawType": "object",
                  "type": "string"
                },
                {
                  "name": "HS_age_population",
                  "rawType": "float64",
                  "type": "float"
                },
                {
                  "name": "HS_age_population_billion",
                  "rawType": "float64",
                  "type": "float"
                },
                {
                  "name": "HS_age_population_pct",
                  "rawType": "float64",
                  "type": "float"
                }
              ],
              "ref": "69bb60a7-20a1-41fc-8b13-e6aca38c675a",
              "rows": [
                [
                  "0",
                  "China",
                  "13777100000.0",
                  "13.777",
                  "19.307"
                ],
                [
                  "1",
                  "India",
                  "12867819000.0",
                  "12.868",
                  "18.033"
                ],
                [
                  "2",
                  "United States of America",
                  "2770717000.0",
                  "2.771",
                  "3.883"
                ],
                [
                  "3",
                  "Indonesia",
                  "2539521000.0",
                  "2.54",
                  "3.559"
                ],
                [
                  "4",
                  "Brazil",
                  "2002351000.0",
                  "2.002",
                  "2.806"
                ]
              ],
              "shape": {
                "columns": 4,
                "rows": 5
              }
            },
            "text/html": [
              "<div>\n",
              "<style scoped>\n",
              "    .dataframe tbody tr th:only-of-type {\n",
              "        vertical-align: middle;\n",
              "    }\n",
              "\n",
              "    .dataframe tbody tr th {\n",
              "        vertical-align: top;\n",
              "    }\n",
              "\n",
              "    .dataframe thead th {\n",
              "        text-align: right;\n",
              "    }\n",
              "</style>\n",
              "<table border=\"1\" class=\"dataframe\">\n",
              "  <thead>\n",
              "    <tr style=\"text-align: right;\">\n",
              "      <th></th>\n",
              "      <th>Country</th>\n",
              "      <th>HS_age_population</th>\n",
              "      <th>HS_age_population_billion</th>\n",
              "      <th>HS_age_population_pct</th>\n",
              "    </tr>\n",
              "  </thead>\n",
              "  <tbody>\n",
              "    <tr>\n",
              "      <th>0</th>\n",
              "      <td>China</td>\n",
              "      <td>1.377710e+10</td>\n",
              "      <td>13.777</td>\n",
              "      <td>19.307</td>\n",
              "    </tr>\n",
              "    <tr>\n",
              "      <th>1</th>\n",
              "      <td>India</td>\n",
              "      <td>1.286782e+10</td>\n",
              "      <td>12.868</td>\n",
              "      <td>18.033</td>\n",
              "    </tr>\n",
              "    <tr>\n",
              "      <th>2</th>\n",
              "      <td>United States of America</td>\n",
              "      <td>2.770717e+09</td>\n",
              "      <td>2.771</td>\n",
              "      <td>3.883</td>\n",
              "    </tr>\n",
              "    <tr>\n",
              "      <th>3</th>\n",
              "      <td>Indonesia</td>\n",
              "      <td>2.539521e+09</td>\n",
              "      <td>2.540</td>\n",
              "      <td>3.559</td>\n",
              "    </tr>\n",
              "    <tr>\n",
              "      <th>4</th>\n",
              "      <td>Brazil</td>\n",
              "      <td>2.002351e+09</td>\n",
              "      <td>2.002</td>\n",
              "      <td>2.806</td>\n",
              "    </tr>\n",
              "  </tbody>\n",
              "</table>\n",
              "</div>"
            ],
            "text/plain": [
              "                    Country  HS_age_population  HS_age_population_billion  \\\n",
              "0                     China       1.377710e+10                     13.777   \n",
              "1                     India       1.286782e+10                     12.868   \n",
              "2  United States of America       2.770717e+09                      2.771   \n",
              "3                 Indonesia       2.539521e+09                      2.540   \n",
              "4                    Brazil       2.002351e+09                      2.002   \n",
              "\n",
              "   HS_age_population_pct  \n",
              "0                 19.307  \n",
              "1                 18.033  \n",
              "2                  3.883  \n",
              "3                  3.559  \n",
              "4                  2.806  "
            ]
          },
          "execution_count": 3,
          "metadata": {},
          "output_type": "execute_result"
        }
      ],
      "source": [
        "#checking if they are loaded\n",
        "df_age.head()"
      ]
    },
    {
      "cell_type": "code",
      "execution_count": 4,
      "metadata": {
        "colab": {
          "base_uri": "https://localhost:8080/",
          "height": 206
        },
        "id": "zTO6Z3OymEbM",
        "outputId": "92a6c99d-d8a2-4d4f-beb7-0faa93a13b79"
      },
      "outputs": [
        {
          "data": {
            "application/vnd.microsoft.datawrangler.viewer.v0+json": {
              "columns": [
                {
                  "name": "index",
                  "rawType": "int64",
                  "type": "integer"
                },
                {
                  "name": "Country Name",
                  "rawType": "object",
                  "type": "string"
                },
                {
                  "name": "GDP per capita (PPP)",
                  "rawType": "float64",
                  "type": "float"
                }
              ],
              "ref": "954474f1-26ac-4485-92d7-8f87f6a6adcf",
              "rows": [
                [
                  "0",
                  "Africa Eastern and Southern",
                  "4481.24684693644"
                ],
                [
                  "1",
                  "Africa Western and Central",
                  "5639.83073162825"
                ],
                [
                  "2",
                  "Albania",
                  "23488.0989465081"
                ],
                [
                  "3",
                  "Algeria",
                  "17552.7742475631"
                ],
                [
                  "4",
                  "Andorra",
                  "74939.4746038578"
                ]
              ],
              "shape": {
                "columns": 2,
                "rows": 5
              }
            },
            "text/html": [
              "<div>\n",
              "<style scoped>\n",
              "    .dataframe tbody tr th:only-of-type {\n",
              "        vertical-align: middle;\n",
              "    }\n",
              "\n",
              "    .dataframe tbody tr th {\n",
              "        vertical-align: top;\n",
              "    }\n",
              "\n",
              "    .dataframe thead th {\n",
              "        text-align: right;\n",
              "    }\n",
              "</style>\n",
              "<table border=\"1\" class=\"dataframe\">\n",
              "  <thead>\n",
              "    <tr style=\"text-align: right;\">\n",
              "      <th></th>\n",
              "      <th>Country Name</th>\n",
              "      <th>GDP per capita (PPP)</th>\n",
              "    </tr>\n",
              "  </thead>\n",
              "  <tbody>\n",
              "    <tr>\n",
              "      <th>0</th>\n",
              "      <td>Africa Eastern and Southern</td>\n",
              "      <td>4481.246847</td>\n",
              "    </tr>\n",
              "    <tr>\n",
              "      <th>1</th>\n",
              "      <td>Africa Western and Central</td>\n",
              "      <td>5639.830732</td>\n",
              "    </tr>\n",
              "    <tr>\n",
              "      <th>2</th>\n",
              "      <td>Albania</td>\n",
              "      <td>23488.098947</td>\n",
              "    </tr>\n",
              "    <tr>\n",
              "      <th>3</th>\n",
              "      <td>Algeria</td>\n",
              "      <td>17552.774248</td>\n",
              "    </tr>\n",
              "    <tr>\n",
              "      <th>4</th>\n",
              "      <td>Andorra</td>\n",
              "      <td>74939.474604</td>\n",
              "    </tr>\n",
              "  </tbody>\n",
              "</table>\n",
              "</div>"
            ],
            "text/plain": [
              "                  Country Name  GDP per capita (PPP)\n",
              "0  Africa Eastern and Southern           4481.246847\n",
              "1   Africa Western and Central           5639.830732\n",
              "2                      Albania          23488.098947\n",
              "3                      Algeria          17552.774248\n",
              "4                      Andorra          74939.474604"
            ]
          },
          "execution_count": 4,
          "metadata": {},
          "output_type": "execute_result"
        }
      ],
      "source": [
        "df_gdp.head()\n"
      ]
    },
    {
      "cell_type": "code",
      "execution_count": 5,
      "metadata": {
        "colab": {
          "base_uri": "https://localhost:8080/",
          "height": 206
        },
        "id": "ydCUsg37mSoj",
        "outputId": "e52d6fd2-da27-4be9-8185-30bd5b505a94"
      },
      "outputs": [
        {
          "data": {
            "application/vnd.microsoft.datawrangler.viewer.v0+json": {
              "columns": [
                {
                  "name": "index",
                  "rawType": "int64",
                  "type": "integer"
                },
                {
                  "name": "School Name",
                  "rawType": "object",
                  "type": "string"
                },
                {
                  "name": "City",
                  "rawType": "object",
                  "type": "string"
                },
                {
                  "name": "Country",
                  "rawType": "object",
                  "type": "string"
                },
                {
                  "name": "URL",
                  "rawType": "object",
                  "type": "unknown"
                }
              ],
              "ref": "b8099df3-b7c2-413b-bc58-875a4b0f0383",
              "rows": [
                [
                  "0",
                  "Good Hope Country Day School",
                  "Frederiksted",
                  "-",
                  null
                ],
                [
                  "1",
                  "International Learning Group School (ILG School)",
                  "Pristina",
                  "-",
                  null
                ],
                [
                  "2",
                  "Robinson School",
                  "San Juan",
                  "-",
                  null
                ],
                [
                  "3",
                  "Two Boats School",
                  "Ascension",
                  "-",
                  null
                ],
                [
                  "4",
                  "Virgin Islands Montessori School & Peter Gruber International Academy",
                  "St. Thomas",
                  "-",
                  null
                ]
              ],
              "shape": {
                "columns": 4,
                "rows": 5
              }
            },
            "text/html": [
              "<div>\n",
              "<style scoped>\n",
              "    .dataframe tbody tr th:only-of-type {\n",
              "        vertical-align: middle;\n",
              "    }\n",
              "\n",
              "    .dataframe tbody tr th {\n",
              "        vertical-align: top;\n",
              "    }\n",
              "\n",
              "    .dataframe thead th {\n",
              "        text-align: right;\n",
              "    }\n",
              "</style>\n",
              "<table border=\"1\" class=\"dataframe\">\n",
              "  <thead>\n",
              "    <tr style=\"text-align: right;\">\n",
              "      <th></th>\n",
              "      <th>School Name</th>\n",
              "      <th>City</th>\n",
              "      <th>Country</th>\n",
              "      <th>URL</th>\n",
              "    </tr>\n",
              "  </thead>\n",
              "  <tbody>\n",
              "    <tr>\n",
              "      <th>0</th>\n",
              "      <td>Good Hope Country Day School</td>\n",
              "      <td>Frederiksted</td>\n",
              "      <td>-</td>\n",
              "      <td>NaN</td>\n",
              "    </tr>\n",
              "    <tr>\n",
              "      <th>1</th>\n",
              "      <td>International Learning Group School (ILG School)</td>\n",
              "      <td>Pristina</td>\n",
              "      <td>-</td>\n",
              "      <td>NaN</td>\n",
              "    </tr>\n",
              "    <tr>\n",
              "      <th>2</th>\n",
              "      <td>Robinson School</td>\n",
              "      <td>San Juan</td>\n",
              "      <td>-</td>\n",
              "      <td>NaN</td>\n",
              "    </tr>\n",
              "    <tr>\n",
              "      <th>3</th>\n",
              "      <td>Two Boats School</td>\n",
              "      <td>Ascension</td>\n",
              "      <td>-</td>\n",
              "      <td>NaN</td>\n",
              "    </tr>\n",
              "    <tr>\n",
              "      <th>4</th>\n",
              "      <td>Virgin Islands Montessori School &amp; Peter Grube...</td>\n",
              "      <td>St. Thomas</td>\n",
              "      <td>-</td>\n",
              "      <td>NaN</td>\n",
              "    </tr>\n",
              "  </tbody>\n",
              "</table>\n",
              "</div>"
            ],
            "text/plain": [
              "                                         School Name          City Country  \\\n",
              "0                       Good Hope Country Day School  Frederiksted       -   \n",
              "1   International Learning Group School (ILG School)      Pristina       -   \n",
              "2                                    Robinson School      San Juan       -   \n",
              "3                                   Two Boats School     Ascension       -   \n",
              "4  Virgin Islands Montessori School & Peter Grube...    St. Thomas       -   \n",
              "\n",
              "   URL  \n",
              "0  NaN  \n",
              "1  NaN  \n",
              "2  NaN  \n",
              "3  NaN  \n",
              "4  NaN  "
            ]
          },
          "execution_count": 5,
          "metadata": {},
          "output_type": "execute_result"
        }
      ],
      "source": [
        "df_schools.head()"
      ]
    },
    {
      "cell_type": "code",
      "execution_count": 6,
      "metadata": {
        "colab": {
          "base_uri": "https://localhost:8080/"
        },
        "id": "oauBdNnFvtbR",
        "outputId": "90620557-97cd-4ec9-fccb-4b9402929f42"
      },
      "outputs": [
        {
          "name": "stdout",
          "output_type": "stream",
          "text": [
            "Ages dataset columns: ['Country', 'HS_age_population', 'HS_age_population_billion', 'HS_age_population_pct']\n",
            "GDP dataset columns: ['Country Name', 'GDP per capita (PPP)']\n",
            "Schools dataset columns: ['School Name', 'City', 'Country', 'URL']\n",
            "\n",
            "Sample rows from each:\n",
            "  Country  HS_age_population  HS_age_population_billion  HS_age_population_pct\n",
            "0   China       1.377710e+10                     13.777                 19.307\n",
            "1   India       1.286782e+10                     12.868                 18.033\n",
            "                  Country Name  GDP per capita (PPP)\n",
            "0  Africa Eastern and Southern           4481.246847\n",
            "1   Africa Western and Central           5639.830732\n",
            "                                        School Name          City Country  URL\n",
            "0                      Good Hope Country Day School  Frederiksted       -  NaN\n",
            "1  International Learning Group School (ILG School)      Pristina       -  NaN\n"
          ]
        }
      ],
      "source": [
        "print(\"Ages dataset columns:\", df_age.columns.tolist())\n",
        "print(\"GDP dataset columns:\", df_gdp.columns.tolist())\n",
        "print(\"Schools dataset columns:\", df_schools.columns.tolist())\n",
        "\n",
        "print(\"\\nSample rows from each:\")\n",
        "print(df_age.head(2))\n",
        "print(df_gdp.head(2))\n",
        "print(df_schools.head(2))"
      ]
    },
    {
      "cell_type": "code",
      "execution_count": 7,
      "metadata": {},
      "outputs": [
        {
          "data": {
            "application/vnd.microsoft.datawrangler.viewer.v0+json": {
              "columns": [
                {
                  "name": "index",
                  "rawType": "int64",
                  "type": "integer"
                },
                {
                  "name": "Country",
                  "rawType": "object",
                  "type": "string"
                },
                {
                  "name": "Visas",
                  "rawType": "object",
                  "type": "string"
                }
              ],
              "ref": "a1f12b0c-0af0-41fa-890e-4a94a7b664d8",
              "rows": [
                [
                  "0",
                  "India",
                  "83,091"
                ],
                [
                  "1",
                  "China",
                  "78,410"
                ],
                [
                  "2",
                  "Mexico",
                  "9,531"
                ],
                [
                  "3",
                  "Philippines",
                  "3,829"
                ],
                [
                  "4",
                  "Albania",
                  "461"
                ]
              ],
              "shape": {
                "columns": 2,
                "rows": 5
              }
            },
            "text/html": [
              "<div>\n",
              "<style scoped>\n",
              "    .dataframe tbody tr th:only-of-type {\n",
              "        vertical-align: middle;\n",
              "    }\n",
              "\n",
              "    .dataframe tbody tr th {\n",
              "        vertical-align: top;\n",
              "    }\n",
              "\n",
              "    .dataframe thead th {\n",
              "        text-align: right;\n",
              "    }\n",
              "</style>\n",
              "<table border=\"1\" class=\"dataframe\">\n",
              "  <thead>\n",
              "    <tr style=\"text-align: right;\">\n",
              "      <th></th>\n",
              "      <th>Country</th>\n",
              "      <th>Visas</th>\n",
              "    </tr>\n",
              "  </thead>\n",
              "  <tbody>\n",
              "    <tr>\n",
              "      <th>0</th>\n",
              "      <td>India</td>\n",
              "      <td>83,091</td>\n",
              "    </tr>\n",
              "    <tr>\n",
              "      <th>1</th>\n",
              "      <td>China</td>\n",
              "      <td>78,410</td>\n",
              "    </tr>\n",
              "    <tr>\n",
              "      <th>2</th>\n",
              "      <td>Mexico</td>\n",
              "      <td>9,531</td>\n",
              "    </tr>\n",
              "    <tr>\n",
              "      <th>3</th>\n",
              "      <td>Philippines</td>\n",
              "      <td>3,829</td>\n",
              "    </tr>\n",
              "    <tr>\n",
              "      <th>4</th>\n",
              "      <td>Albania</td>\n",
              "      <td>461</td>\n",
              "    </tr>\n",
              "  </tbody>\n",
              "</table>\n",
              "</div>"
            ],
            "text/plain": [
              "       Country   Visas\n",
              "0        India  83,091\n",
              "1        China  78,410\n",
              "2       Mexico   9,531\n",
              "3  Philippines   3,829\n",
              "4      Albania     461"
            ]
          },
          "execution_count": 7,
          "metadata": {},
          "output_type": "execute_result"
        }
      ],
      "source": [
        "df_visas.head()"
      ]
    },
    {
      "cell_type": "code",
      "execution_count": 8,
      "metadata": {
        "id": "Lv-Xvi4LwEFQ"
      },
      "outputs": [
        {
          "data": {
            "application/vnd.microsoft.datawrangler.viewer.v0+json": {
              "columns": [
                {
                  "name": "index",
                  "rawType": "int64",
                  "type": "integer"
                },
                {
                  "name": "Country",
                  "rawType": "object",
                  "type": "string"
                },
                {
                  "name": "Num_Schools",
                  "rawType": "int64",
                  "type": "integer"
                }
              ],
              "ref": "1132ce12-4544-4179-8d7f-a76681081be8",
              "rows": [
                [
                  "0",
                  "-",
                  "5"
                ],
                [
                  "1",
                  "Albania",
                  "4"
                ],
                [
                  "2",
                  "Algeria",
                  "1"
                ],
                [
                  "3",
                  "Angola",
                  "3"
                ],
                [
                  "4",
                  "Anguilla",
                  "1"
                ],
                [
                  "5",
                  "Argentina",
                  "36"
                ],
                [
                  "6",
                  "Armenia",
                  "4"
                ],
                [
                  "7",
                  "Aruba",
                  "1"
                ],
                [
                  "8",
                  "Australia",
                  "61"
                ],
                [
                  "9",
                  "Austria",
                  "17"
                ],
                [
                  "10",
                  "Azerbaijan",
                  "9"
                ],
                [
                  "11",
                  "Bahamas",
                  "6"
                ],
                [
                  "12",
                  "Bahrain",
                  "32"
                ],
                [
                  "13",
                  "Bangladesh",
                  "9"
                ],
                [
                  "14",
                  "Barbados",
                  "3"
                ],
                [
                  "15",
                  "Belgium",
                  "21"
                ],
                [
                  "16",
                  "Bermuda",
                  "5"
                ],
                [
                  "17",
                  "Bolivia",
                  "5"
                ],
                [
                  "18",
                  "Botswana",
                  "4"
                ],
                [
                  "19",
                  "Brazil",
                  "61"
                ],
                [
                  "20",
                  "British Virgin Islands",
                  "1"
                ],
                [
                  "21",
                  "Brunei",
                  "6"
                ],
                [
                  "22",
                  "Bulgaria",
                  "10"
                ],
                [
                  "23",
                  "Burkina Faso",
                  "2"
                ],
                [
                  "24",
                  "Cambodia",
                  "47"
                ],
                [
                  "25",
                  "Cameroon",
                  "4"
                ],
                [
                  "26",
                  "Canada",
                  "72"
                ],
                [
                  "27",
                  "Cayman Islands",
                  "2"
                ],
                [
                  "28",
                  "Chile",
                  "25"
                ],
                [
                  "29",
                  "China",
                  "287"
                ],
                [
                  "30",
                  "Colombia",
                  "40"
                ],
                [
                  "31",
                  "Costa Rica",
                  "22"
                ],
                [
                  "32",
                  "Croatia",
                  "2"
                ],
                [
                  "33",
                  "Cuba",
                  "1"
                ],
                [
                  "34",
                  "Curacao",
                  "1"
                ],
                [
                  "35",
                  "Cyprus",
                  "9"
                ],
                [
                  "36",
                  "Czech Republic",
                  "21"
                ],
                [
                  "37",
                  "Democratic Republic of the Congo",
                  "1"
                ],
                [
                  "38",
                  "Denmark",
                  "12"
                ],
                [
                  "39",
                  "Djibouti",
                  "1"
                ],
                [
                  "40",
                  "Dominican Republic",
                  "25"
                ],
                [
                  "41",
                  "East Timor",
                  "1"
                ],
                [
                  "42",
                  "Ecuador",
                  "15"
                ],
                [
                  "43",
                  "Egypt",
                  "97"
                ],
                [
                  "44",
                  "El Salvador",
                  "4"
                ],
                [
                  "45",
                  "Eritrea",
                  "1"
                ],
                [
                  "46",
                  "Estonia",
                  "6"
                ],
                [
                  "47",
                  "Eswatini",
                  "1"
                ],
                [
                  "48",
                  "Ethiopia",
                  "14"
                ],
                [
                  "49",
                  "Fiji",
                  "1"
                ]
              ],
              "shape": {
                "columns": 2,
                "rows": 163
              }
            },
            "text/html": [
              "<div>\n",
              "<style scoped>\n",
              "    .dataframe tbody tr th:only-of-type {\n",
              "        vertical-align: middle;\n",
              "    }\n",
              "\n",
              "    .dataframe tbody tr th {\n",
              "        vertical-align: top;\n",
              "    }\n",
              "\n",
              "    .dataframe thead th {\n",
              "        text-align: right;\n",
              "    }\n",
              "</style>\n",
              "<table border=\"1\" class=\"dataframe\">\n",
              "  <thead>\n",
              "    <tr style=\"text-align: right;\">\n",
              "      <th></th>\n",
              "      <th>Country</th>\n",
              "      <th>Num_Schools</th>\n",
              "    </tr>\n",
              "  </thead>\n",
              "  <tbody>\n",
              "    <tr>\n",
              "      <th>0</th>\n",
              "      <td>-</td>\n",
              "      <td>5</td>\n",
              "    </tr>\n",
              "    <tr>\n",
              "      <th>1</th>\n",
              "      <td>Albania</td>\n",
              "      <td>4</td>\n",
              "    </tr>\n",
              "    <tr>\n",
              "      <th>2</th>\n",
              "      <td>Algeria</td>\n",
              "      <td>1</td>\n",
              "    </tr>\n",
              "    <tr>\n",
              "      <th>3</th>\n",
              "      <td>Angola</td>\n",
              "      <td>3</td>\n",
              "    </tr>\n",
              "    <tr>\n",
              "      <th>4</th>\n",
              "      <td>Anguilla</td>\n",
              "      <td>1</td>\n",
              "    </tr>\n",
              "    <tr>\n",
              "      <th>...</th>\n",
              "      <td>...</td>\n",
              "      <td>...</td>\n",
              "    </tr>\n",
              "    <tr>\n",
              "      <th>158</th>\n",
              "      <td>Venezuela</td>\n",
              "      <td>9</td>\n",
              "    </tr>\n",
              "    <tr>\n",
              "      <th>159</th>\n",
              "      <td>Vietnam</td>\n",
              "      <td>63</td>\n",
              "    </tr>\n",
              "    <tr>\n",
              "      <th>160</th>\n",
              "      <td>Yemen</td>\n",
              "      <td>1</td>\n",
              "    </tr>\n",
              "    <tr>\n",
              "      <th>161</th>\n",
              "      <td>Zambia</td>\n",
              "      <td>9</td>\n",
              "    </tr>\n",
              "    <tr>\n",
              "      <th>162</th>\n",
              "      <td>Zimbabwe</td>\n",
              "      <td>1</td>\n",
              "    </tr>\n",
              "  </tbody>\n",
              "</table>\n",
              "<p>163 rows × 2 columns</p>\n",
              "</div>"
            ],
            "text/plain": [
              "       Country  Num_Schools\n",
              "0            -            5\n",
              "1      Albania            4\n",
              "2      Algeria            1\n",
              "3       Angola            3\n",
              "4     Anguilla            1\n",
              "..         ...          ...\n",
              "158  Venezuela            9\n",
              "159    Vietnam           63\n",
              "160      Yemen            1\n",
              "161     Zambia            9\n",
              "162   Zimbabwe            1\n",
              "\n",
              "[163 rows x 2 columns]"
            ]
          },
          "execution_count": 8,
          "metadata": {},
          "output_type": "execute_result"
        }
      ],
      "source": [
        "school_counts = df_schools.groupby('Country')['School Name'].count().reset_index(name='Num_Schools')\n",
        "school_counts"
      ]
    },
    {
      "cell_type": "code",
      "execution_count": null,
      "metadata": {},
      "outputs": [],
      "source": []
    },
    {
      "cell_type": "code",
      "execution_count": 9,
      "metadata": {
        "id": "Yxk4fOOZwRfE"
      },
      "outputs": [],
      "source": [
        "# Standardize column names for merging\n",
        "df_gdp = df_gdp.rename(columns={'Country Name': 'Country'})\n",
        "df_age = df_age.rename(columns={'HS_age_population': 'Youth_Population'})"
      ]
    },
    {
      "cell_type": "code",
      "execution_count": 10,
      "metadata": {
        "id": "_NHQsxCHwUsj"
      },
      "outputs": [],
      "source": [
        "# Merge all three datasets\n",
        "merged = (\n",
        "    school_counts\n",
        "    .merge(df_gdp[['Country', 'GDP per capita (PPP)']], on='Country', how='left')\n",
        "    .merge(df_age[['Country', 'Youth_Population']], on='Country', how='left')\n",
        "    .merge(df_visas[['Country','Visas']], on='Country', how='left')\n",
        ")"
      ]
    },
    {
      "cell_type": "code",
      "execution_count": 11,
      "metadata": {
        "colab": {
          "base_uri": "https://localhost:8080/",
          "height": 206
        },
        "id": "NHlp0EJewVto",
        "outputId": "bfaf567d-f57c-4d1e-b1bf-e9d8f379d2ca"
      },
      "outputs": [],
      "source": [
        "merged.head()\n",
        "merged = merged.iloc[1:]"
      ]
    },
    {
      "cell_type": "code",
      "execution_count": 12,
      "metadata": {
        "colab": {
          "base_uri": "https://localhost:8080/",
          "height": 1168
        },
        "id": "dXjhAeQuwbzf",
        "outputId": "54a66b47-f211-44b1-f1cf-90a325889fcd"
      },
      "outputs": [
        {
          "data": {
            "application/vnd.microsoft.datawrangler.viewer.v0+json": {
              "columns": [
                {
                  "name": "index",
                  "rawType": "int64",
                  "type": "integer"
                },
                {
                  "name": "Country",
                  "rawType": "object",
                  "type": "string"
                },
                {
                  "name": "Num_Schools",
                  "rawType": "int64",
                  "type": "integer"
                },
                {
                  "name": "GDP per capita (PPP)",
                  "rawType": "float64",
                  "type": "float"
                },
                {
                  "name": "Youth_Population",
                  "rawType": "float64",
                  "type": "float"
                },
                {
                  "name": "Visas",
                  "rawType": "object",
                  "type": "unknown"
                }
              ],
              "ref": "2626120f-1b7c-41af-9de7-2b716eca2976",
              "rows": [
                [
                  "1",
                  "Albania",
                  "4",
                  "23488.0989465081",
                  "37097000.0",
                  "461"
                ],
                [
                  "2",
                  "Algeria",
                  "1",
                  "17552.7742475631",
                  "372104000.0",
                  "465"
                ],
                [
                  "3",
                  "Angola",
                  "3",
                  "8347.95279117055",
                  "222522000.0",
                  "370"
                ],
                [
                  "4",
                  "Anguilla",
                  "1",
                  "28561.3",
                  "145000.0",
                  "0"
                ],
                [
                  "5",
                  "Argentina",
                  "36",
                  "30175.5359656699",
                  "405125000.0",
                  "1,984"
                ],
                [
                  "6",
                  "Armenia",
                  "4",
                  "22823.1795255692",
                  "36900000.0",
                  "1,274"
                ],
                [
                  "7",
                  "Aruba",
                  "1",
                  "44967.0",
                  "933000.0",
                  "0"
                ],
                [
                  "8",
                  "Australia",
                  "61",
                  "71193.2158509788",
                  "180756000.0",
                  "2,180"
                ],
                [
                  "9",
                  "Austria",
                  "17",
                  "71617.9017496321",
                  "75322000.0",
                  "568"
                ],
                [
                  "10",
                  "Azerbaijan",
                  "9",
                  "25088.9501767555",
                  "97282000.0",
                  "1,062"
                ],
                [
                  "11",
                  "Bahamas",
                  "6",
                  "41197.9183829907",
                  "3419000.0",
                  "1,350"
                ],
                [
                  "12",
                  "Bahrain",
                  "32",
                  "67210.9890947485",
                  "6876000.0",
                  "241"
                ],
                [
                  "13",
                  "Bangladesh",
                  "9",
                  "9646.76984383255",
                  "1692736000.0",
                  "5,689"
                ],
                [
                  "14",
                  "Barbados",
                  "3",
                  "22671.9466863479",
                  "3293000.0",
                  "960"
                ],
                [
                  "15",
                  "Belgium",
                  "21",
                  "72126.0028888089",
                  "97646000.0",
                  "863"
                ],
                [
                  "16",
                  "Bermuda",
                  "5",
                  "119718.584667771",
                  "573000.0",
                  null
                ],
                [
                  "17",
                  "Bolivia",
                  "5",
                  "11189.8055097036",
                  "110757000.0",
                  null
                ],
                [
                  "18",
                  "Botswana",
                  "4",
                  "20538.1320160386",
                  "21034000.0",
                  "150"
                ],
                [
                  "19",
                  "Brazil",
                  "61",
                  "22333.4116642585",
                  "2002351000.0",
                  "6,141"
                ],
                [
                  "20",
                  "British Virgin Islands",
                  "1",
                  "44515.89592",
                  "205000.0",
                  "0"
                ],
                [
                  "21",
                  "Brunei",
                  "6",
                  "90007.077485547",
                  "3348000.0",
                  null
                ],
                [
                  "22",
                  "Bulgaria",
                  "10",
                  "41086.3036455051",
                  "81685000.0",
                  "210"
                ],
                [
                  "23",
                  "Burkina Faso",
                  "2",
                  "2896.18741593759",
                  "173771000.0",
                  "174"
                ],
                [
                  "24",
                  "Cambodia",
                  "47",
                  "7969.93361077408",
                  "153181000.0",
                  "1,173"
                ],
                [
                  "25",
                  "Cameroon",
                  "4",
                  "5591.49639781706",
                  "205714000.0",
                  "598"
                ],
                [
                  "26",
                  "Canada",
                  "72",
                  "65463.0990993361",
                  "289214000.0",
                  "3,549"
                ],
                [
                  "27",
                  "Cayman Islands",
                  "2",
                  null,
                  "294000.0",
                  "0"
                ],
                [
                  "28",
                  "Chile",
                  "25",
                  "34637.1168279143",
                  "173578000.0",
                  "1,196"
                ],
                [
                  "29",
                  "China",
                  "287",
                  "27104.8702677463",
                  "13777100000.0",
                  "78,410"
                ],
                [
                  "30",
                  "Colombia",
                  "40",
                  "21494.6002713853",
                  "470489000.0",
                  "4,836"
                ],
                [
                  "31",
                  "Costa Rica",
                  "22",
                  "30062.849160468",
                  "42709000.0",
                  "707"
                ],
                [
                  "32",
                  "Croatia",
                  "2",
                  "48575.4314219866",
                  "45599000.0",
                  "146"
                ],
                [
                  "33",
                  "Cuba",
                  "1",
                  "7433.43",
                  "122169000.0",
                  "506"
                ],
                [
                  "34",
                  "Curacao",
                  "1",
                  "30716.0",
                  "2012000.0",
                  "0"
                ],
                [
                  "35",
                  "Cyprus",
                  "9",
                  "61239.9375",
                  "9743000.0",
                  "218"
                ],
                [
                  "36",
                  "Czech Republic",
                  "21",
                  "56805.6467676779",
                  "101539000.0",
                  "557"
                ],
                [
                  "37",
                  "Democratic Republic of the Congo",
                  "1",
                  "1709.73207724172",
                  "685796000.0",
                  "798"
                ],
                [
                  "38",
                  "Denmark",
                  "12",
                  "79514.2854383058",
                  "52058000.0",
                  "688"
                ],
                [
                  "39",
                  "Djibouti",
                  "1",
                  "7776.22613645201",
                  "8232000.0",
                  "136"
                ],
                [
                  "40",
                  "Dominican Republic",
                  "25",
                  "27541.183570599",
                  "108756000.0",
                  "6,228"
                ],
                [
                  "41",
                  "East Timor",
                  "1",
                  "4758.39202005466",
                  "12913000.0",
                  "0"
                ],
                [
                  "42",
                  "Ecuador",
                  "15",
                  "15840.2668567412",
                  "155904000.0",
                  "2,390"
                ],
                [
                  "43",
                  "Egypt",
                  "97",
                  "19094.1449444111",
                  "900865000.0",
                  "1,184"
                ],
                [
                  "44",
                  "El Salvador",
                  "4",
                  "13264.027090968",
                  "78762000.0",
                  "1,095"
                ],
                [
                  "45",
                  "Eritrea",
                  "1",
                  "2162.0",
                  "32878000.0",
                  "4"
                ],
                [
                  "46",
                  "Estonia",
                  "6",
                  "49333.8067758296",
                  "13806000.0",
                  "131"
                ],
                [
                  "47",
                  "Eswatini",
                  "1",
                  "11784.2800637308",
                  "13335000.0",
                  "410"
                ],
                [
                  "48",
                  "Ethiopia",
                  "14",
                  "3278.48967257937",
                  "927468000.0",
                  "1,908"
                ],
                [
                  "49",
                  "Fiji",
                  "1",
                  "16032.257408619",
                  "10782000.0",
                  "99"
                ],
                [
                  "50",
                  "Finland",
                  "2",
                  "64091.2251829548",
                  "51967000.0",
                  "357"
                ]
              ],
              "shape": {
                "columns": 5,
                "rows": 161
              }
            },
            "text/html": [
              "<div>\n",
              "<style scoped>\n",
              "    .dataframe tbody tr th:only-of-type {\n",
              "        vertical-align: middle;\n",
              "    }\n",
              "\n",
              "    .dataframe tbody tr th {\n",
              "        vertical-align: top;\n",
              "    }\n",
              "\n",
              "    .dataframe thead th {\n",
              "        text-align: right;\n",
              "    }\n",
              "</style>\n",
              "<table border=\"1\" class=\"dataframe\">\n",
              "  <thead>\n",
              "    <tr style=\"text-align: right;\">\n",
              "      <th></th>\n",
              "      <th>Country</th>\n",
              "      <th>Num_Schools</th>\n",
              "      <th>GDP per capita (PPP)</th>\n",
              "      <th>Youth_Population</th>\n",
              "      <th>Visas</th>\n",
              "    </tr>\n",
              "  </thead>\n",
              "  <tbody>\n",
              "    <tr>\n",
              "      <th>1</th>\n",
              "      <td>Albania</td>\n",
              "      <td>4</td>\n",
              "      <td>23488.098947</td>\n",
              "      <td>37097000.0</td>\n",
              "      <td>461</td>\n",
              "    </tr>\n",
              "    <tr>\n",
              "      <th>2</th>\n",
              "      <td>Algeria</td>\n",
              "      <td>1</td>\n",
              "      <td>17552.774248</td>\n",
              "      <td>372104000.0</td>\n",
              "      <td>465</td>\n",
              "    </tr>\n",
              "    <tr>\n",
              "      <th>3</th>\n",
              "      <td>Angola</td>\n",
              "      <td>3</td>\n",
              "      <td>8347.952791</td>\n",
              "      <td>222522000.0</td>\n",
              "      <td>370</td>\n",
              "    </tr>\n",
              "    <tr>\n",
              "      <th>4</th>\n",
              "      <td>Anguilla</td>\n",
              "      <td>1</td>\n",
              "      <td>28561.300000</td>\n",
              "      <td>145000.0</td>\n",
              "      <td>0</td>\n",
              "    </tr>\n",
              "    <tr>\n",
              "      <th>5</th>\n",
              "      <td>Argentina</td>\n",
              "      <td>36</td>\n",
              "      <td>30175.535966</td>\n",
              "      <td>405125000.0</td>\n",
              "      <td>1,984</td>\n",
              "    </tr>\n",
              "    <tr>\n",
              "      <th>...</th>\n",
              "      <td>...</td>\n",
              "      <td>...</td>\n",
              "      <td>...</td>\n",
              "      <td>...</td>\n",
              "      <td>...</td>\n",
              "    </tr>\n",
              "    <tr>\n",
              "      <th>158</th>\n",
              "      <td>Venezuela</td>\n",
              "      <td>9</td>\n",
              "      <td>8404.000000</td>\n",
              "      <td>287449000.0</td>\n",
              "      <td>NaN</td>\n",
              "    </tr>\n",
              "    <tr>\n",
              "      <th>159</th>\n",
              "      <td>Vietnam</td>\n",
              "      <td>63</td>\n",
              "      <td>16385.506557</td>\n",
              "      <td>894347000.0</td>\n",
              "      <td>20,478</td>\n",
              "    </tr>\n",
              "    <tr>\n",
              "      <th>160</th>\n",
              "      <td>Yemen</td>\n",
              "      <td>1</td>\n",
              "      <td>1996.000000</td>\n",
              "      <td>272163000.0</td>\n",
              "      <td>152</td>\n",
              "    </tr>\n",
              "    <tr>\n",
              "      <th>161</th>\n",
              "      <td>Zambia</td>\n",
              "      <td>9</td>\n",
              "      <td>4223.950208</td>\n",
              "      <td>150325000.0</td>\n",
              "      <td>368</td>\n",
              "    </tr>\n",
              "    <tr>\n",
              "      <th>162</th>\n",
              "      <td>Zimbabwe</td>\n",
              "      <td>1</td>\n",
              "      <td>3921.697956</td>\n",
              "      <td>163028000.0</td>\n",
              "      <td>1,365</td>\n",
              "    </tr>\n",
              "  </tbody>\n",
              "</table>\n",
              "<p>161 rows × 5 columns</p>\n",
              "</div>"
            ],
            "text/plain": [
              "       Country  Num_Schools  GDP per capita (PPP)  Youth_Population   Visas\n",
              "1      Albania            4          23488.098947        37097000.0     461\n",
              "2      Algeria            1          17552.774248       372104000.0     465\n",
              "3       Angola            3           8347.952791       222522000.0     370\n",
              "4     Anguilla            1          28561.300000          145000.0       0\n",
              "5    Argentina           36          30175.535966       405125000.0   1,984\n",
              "..         ...          ...                   ...               ...     ...\n",
              "158  Venezuela            9           8404.000000       287449000.0     NaN\n",
              "159    Vietnam           63          16385.506557       894347000.0  20,478\n",
              "160      Yemen            1           1996.000000       272163000.0     152\n",
              "161     Zambia            9           4223.950208       150325000.0     368\n",
              "162   Zimbabwe            1           3921.697956       163028000.0   1,365\n",
              "\n",
              "[161 rows x 5 columns]"
            ]
          },
          "execution_count": 12,
          "metadata": {},
          "output_type": "execute_result"
        }
      ],
      "source": [
        "merged\n",
        "merged= merged[merged[\"Country\"] != \"United States of America\"]\n",
        "merged"
      ]
    },
    {
      "cell_type": "code",
      "execution_count": 13,
      "metadata": {
        "colab": {
          "base_uri": "https://localhost:8080/"
        },
        "id": "8gIJQWu-wrx5",
        "outputId": "54586678-8778-4600-dfeb-666e311c37af"
      },
      "outputs": [
        {
          "data": {
            "text/plain": [
              "(161, 5)"
            ]
          },
          "execution_count": 13,
          "metadata": {},
          "output_type": "execute_result"
        }
      ],
      "source": [
        "merged.shape\n"
      ]
    },
    {
      "cell_type": "code",
      "execution_count": 14,
      "metadata": {},
      "outputs": [],
      "source": [
        "merged = merged.dropna()"
      ]
    },
    {
      "cell_type": "code",
      "execution_count": 15,
      "metadata": {},
      "outputs": [
        {
          "data": {
            "application/vnd.microsoft.datawrangler.viewer.v0+json": {
              "columns": [
                {
                  "name": "index",
                  "rawType": "int64",
                  "type": "integer"
                },
                {
                  "name": "Country",
                  "rawType": "object",
                  "type": "string"
                },
                {
                  "name": "Num_Schools",
                  "rawType": "int64",
                  "type": "integer"
                },
                {
                  "name": "GDP per capita (PPP)",
                  "rawType": "float64",
                  "type": "float"
                },
                {
                  "name": "Youth_Population",
                  "rawType": "float64",
                  "type": "float"
                },
                {
                  "name": "Visas",
                  "rawType": "object",
                  "type": "string"
                }
              ],
              "ref": "ef93a4a9-36c0-4517-8ef2-aab659e66bd5",
              "rows": [
                [
                  "1",
                  "Albania",
                  "4",
                  "23488.0989465081",
                  "37097000.0",
                  "461"
                ],
                [
                  "2",
                  "Algeria",
                  "1",
                  "17552.7742475631",
                  "372104000.0",
                  "465"
                ],
                [
                  "3",
                  "Angola",
                  "3",
                  "8347.95279117055",
                  "222522000.0",
                  "370"
                ],
                [
                  "4",
                  "Anguilla",
                  "1",
                  "28561.3",
                  "145000.0",
                  "0"
                ],
                [
                  "5",
                  "Argentina",
                  "36",
                  "30175.5359656699",
                  "405125000.0",
                  "1,984"
                ],
                [
                  "6",
                  "Armenia",
                  "4",
                  "22823.1795255692",
                  "36900000.0",
                  "1,274"
                ],
                [
                  "7",
                  "Aruba",
                  "1",
                  "44967.0",
                  "933000.0",
                  "0"
                ],
                [
                  "8",
                  "Australia",
                  "61",
                  "71193.2158509788",
                  "180756000.0",
                  "2,180"
                ],
                [
                  "9",
                  "Austria",
                  "17",
                  "71617.9017496321",
                  "75322000.0",
                  "568"
                ],
                [
                  "10",
                  "Azerbaijan",
                  "9",
                  "25088.9501767555",
                  "97282000.0",
                  "1,062"
                ],
                [
                  "11",
                  "Bahamas",
                  "6",
                  "41197.9183829907",
                  "3419000.0",
                  "1,350"
                ],
                [
                  "12",
                  "Bahrain",
                  "32",
                  "67210.9890947485",
                  "6876000.0",
                  "241"
                ],
                [
                  "13",
                  "Bangladesh",
                  "9",
                  "9646.76984383255",
                  "1692736000.0",
                  "5,689"
                ],
                [
                  "14",
                  "Barbados",
                  "3",
                  "22671.9466863479",
                  "3293000.0",
                  "960"
                ],
                [
                  "15",
                  "Belgium",
                  "21",
                  "72126.0028888089",
                  "97646000.0",
                  "863"
                ],
                [
                  "18",
                  "Botswana",
                  "4",
                  "20538.1320160386",
                  "21034000.0",
                  "150"
                ],
                [
                  "19",
                  "Brazil",
                  "61",
                  "22333.4116642585",
                  "2002351000.0",
                  "6,141"
                ],
                [
                  "20",
                  "British Virgin Islands",
                  "1",
                  "44515.89592",
                  "205000.0",
                  "0"
                ],
                [
                  "22",
                  "Bulgaria",
                  "10",
                  "41086.3036455051",
                  "81685000.0",
                  "210"
                ],
                [
                  "23",
                  "Burkina Faso",
                  "2",
                  "2896.18741593759",
                  "173771000.0",
                  "174"
                ],
                [
                  "24",
                  "Cambodia",
                  "47",
                  "7969.93361077408",
                  "153181000.0",
                  "1,173"
                ],
                [
                  "25",
                  "Cameroon",
                  "4",
                  "5591.49639781706",
                  "205714000.0",
                  "598"
                ],
                [
                  "26",
                  "Canada",
                  "72",
                  "65463.0990993361",
                  "289214000.0",
                  "3,549"
                ],
                [
                  "28",
                  "Chile",
                  "25",
                  "34637.1168279143",
                  "173578000.0",
                  "1,196"
                ],
                [
                  "29",
                  "China",
                  "287",
                  "27104.8702677463",
                  "13777100000.0",
                  "78,410"
                ],
                [
                  "30",
                  "Colombia",
                  "40",
                  "21494.6002713853",
                  "470489000.0",
                  "4,836"
                ],
                [
                  "31",
                  "Costa Rica",
                  "22",
                  "30062.849160468",
                  "42709000.0",
                  "707"
                ],
                [
                  "32",
                  "Croatia",
                  "2",
                  "48575.4314219866",
                  "45599000.0",
                  "146"
                ],
                [
                  "33",
                  "Cuba",
                  "1",
                  "7433.43",
                  "122169000.0",
                  "506"
                ],
                [
                  "34",
                  "Curacao",
                  "1",
                  "30716.0",
                  "2012000.0",
                  "0"
                ],
                [
                  "35",
                  "Cyprus",
                  "9",
                  "61239.9375",
                  "9743000.0",
                  "218"
                ],
                [
                  "36",
                  "Czech Republic",
                  "21",
                  "56805.6467676779",
                  "101539000.0",
                  "557"
                ],
                [
                  "37",
                  "Democratic Republic of the Congo",
                  "1",
                  "1709.73207724172",
                  "685796000.0",
                  "798"
                ],
                [
                  "38",
                  "Denmark",
                  "12",
                  "79514.2854383058",
                  "52058000.0",
                  "688"
                ],
                [
                  "39",
                  "Djibouti",
                  "1",
                  "7776.22613645201",
                  "8232000.0",
                  "136"
                ],
                [
                  "40",
                  "Dominican Republic",
                  "25",
                  "27541.183570599",
                  "108756000.0",
                  "6,228"
                ],
                [
                  "41",
                  "East Timor",
                  "1",
                  "4758.39202005466",
                  "12913000.0",
                  "0"
                ],
                [
                  "42",
                  "Ecuador",
                  "15",
                  "15840.2668567412",
                  "155904000.0",
                  "2,390"
                ],
                [
                  "43",
                  "Egypt",
                  "97",
                  "19094.1449444111",
                  "900865000.0",
                  "1,184"
                ],
                [
                  "44",
                  "El Salvador",
                  "4",
                  "13264.027090968",
                  "78762000.0",
                  "1,095"
                ],
                [
                  "45",
                  "Eritrea",
                  "1",
                  "2162.0",
                  "32878000.0",
                  "4"
                ],
                [
                  "46",
                  "Estonia",
                  "6",
                  "49333.8067758296",
                  "13806000.0",
                  "131"
                ],
                [
                  "47",
                  "Eswatini",
                  "1",
                  "11784.2800637308",
                  "13335000.0",
                  "410"
                ],
                [
                  "48",
                  "Ethiopia",
                  "14",
                  "3278.48967257937",
                  "927468000.0",
                  "1,908"
                ],
                [
                  "49",
                  "Fiji",
                  "1",
                  "16032.257408619",
                  "10782000.0",
                  "99"
                ],
                [
                  "50",
                  "Finland",
                  "2",
                  "64091.2251829548",
                  "51967000.0",
                  "357"
                ],
                [
                  "51",
                  "France",
                  "31",
                  "61321.691319446",
                  "577269000.0",
                  "7,431"
                ],
                [
                  "52",
                  "Gabon",
                  "6",
                  "21509.5227883553",
                  "16366000.0",
                  "97"
                ],
                [
                  "53",
                  "Gambia",
                  "3",
                  "3445.25159248185",
                  "19057000.0",
                  "100"
                ],
                [
                  "54",
                  "Georgia",
                  "6",
                  "28417.7518669146",
                  "52721000.0",
                  "413"
                ]
              ],
              "shape": {
                "columns": 5,
                "rows": 148
              }
            },
            "text/html": [
              "<div>\n",
              "<style scoped>\n",
              "    .dataframe tbody tr th:only-of-type {\n",
              "        vertical-align: middle;\n",
              "    }\n",
              "\n",
              "    .dataframe tbody tr th {\n",
              "        vertical-align: top;\n",
              "    }\n",
              "\n",
              "    .dataframe thead th {\n",
              "        text-align: right;\n",
              "    }\n",
              "</style>\n",
              "<table border=\"1\" class=\"dataframe\">\n",
              "  <thead>\n",
              "    <tr style=\"text-align: right;\">\n",
              "      <th></th>\n",
              "      <th>Country</th>\n",
              "      <th>Num_Schools</th>\n",
              "      <th>GDP per capita (PPP)</th>\n",
              "      <th>Youth_Population</th>\n",
              "      <th>Visas</th>\n",
              "    </tr>\n",
              "  </thead>\n",
              "  <tbody>\n",
              "    <tr>\n",
              "      <th>1</th>\n",
              "      <td>Albania</td>\n",
              "      <td>4</td>\n",
              "      <td>23488.098947</td>\n",
              "      <td>37097000.0</td>\n",
              "      <td>461</td>\n",
              "    </tr>\n",
              "    <tr>\n",
              "      <th>2</th>\n",
              "      <td>Algeria</td>\n",
              "      <td>1</td>\n",
              "      <td>17552.774248</td>\n",
              "      <td>372104000.0</td>\n",
              "      <td>465</td>\n",
              "    </tr>\n",
              "    <tr>\n",
              "      <th>3</th>\n",
              "      <td>Angola</td>\n",
              "      <td>3</td>\n",
              "      <td>8347.952791</td>\n",
              "      <td>222522000.0</td>\n",
              "      <td>370</td>\n",
              "    </tr>\n",
              "    <tr>\n",
              "      <th>4</th>\n",
              "      <td>Anguilla</td>\n",
              "      <td>1</td>\n",
              "      <td>28561.300000</td>\n",
              "      <td>145000.0</td>\n",
              "      <td>0</td>\n",
              "    </tr>\n",
              "    <tr>\n",
              "      <th>5</th>\n",
              "      <td>Argentina</td>\n",
              "      <td>36</td>\n",
              "      <td>30175.535966</td>\n",
              "      <td>405125000.0</td>\n",
              "      <td>1,984</td>\n",
              "    </tr>\n",
              "    <tr>\n",
              "      <th>...</th>\n",
              "      <td>...</td>\n",
              "      <td>...</td>\n",
              "      <td>...</td>\n",
              "      <td>...</td>\n",
              "      <td>...</td>\n",
              "    </tr>\n",
              "    <tr>\n",
              "      <th>157</th>\n",
              "      <td>Uzbekistan</td>\n",
              "      <td>6</td>\n",
              "      <td>11878.552871</td>\n",
              "      <td>288815000.0</td>\n",
              "      <td>686</td>\n",
              "    </tr>\n",
              "    <tr>\n",
              "      <th>159</th>\n",
              "      <td>Vietnam</td>\n",
              "      <td>63</td>\n",
              "      <td>16385.506557</td>\n",
              "      <td>894347000.0</td>\n",
              "      <td>20,478</td>\n",
              "    </tr>\n",
              "    <tr>\n",
              "      <th>160</th>\n",
              "      <td>Yemen</td>\n",
              "      <td>1</td>\n",
              "      <td>1996.000000</td>\n",
              "      <td>272163000.0</td>\n",
              "      <td>152</td>\n",
              "    </tr>\n",
              "    <tr>\n",
              "      <th>161</th>\n",
              "      <td>Zambia</td>\n",
              "      <td>9</td>\n",
              "      <td>4223.950208</td>\n",
              "      <td>150325000.0</td>\n",
              "      <td>368</td>\n",
              "    </tr>\n",
              "    <tr>\n",
              "      <th>162</th>\n",
              "      <td>Zimbabwe</td>\n",
              "      <td>1</td>\n",
              "      <td>3921.697956</td>\n",
              "      <td>163028000.0</td>\n",
              "      <td>1,365</td>\n",
              "    </tr>\n",
              "  </tbody>\n",
              "</table>\n",
              "<p>148 rows × 5 columns</p>\n",
              "</div>"
            ],
            "text/plain": [
              "        Country  Num_Schools  GDP per capita (PPP)  Youth_Population   Visas\n",
              "1       Albania            4          23488.098947        37097000.0     461\n",
              "2       Algeria            1          17552.774248       372104000.0     465\n",
              "3        Angola            3           8347.952791       222522000.0     370\n",
              "4      Anguilla            1          28561.300000          145000.0       0\n",
              "5     Argentina           36          30175.535966       405125000.0   1,984\n",
              "..          ...          ...                   ...               ...     ...\n",
              "157  Uzbekistan            6          11878.552871       288815000.0     686\n",
              "159     Vietnam           63          16385.506557       894347000.0  20,478\n",
              "160       Yemen            1           1996.000000       272163000.0     152\n",
              "161      Zambia            9           4223.950208       150325000.0     368\n",
              "162    Zimbabwe            1           3921.697956       163028000.0   1,365\n",
              "\n",
              "[148 rows x 5 columns]"
            ]
          },
          "execution_count": 15,
          "metadata": {},
          "output_type": "execute_result"
        }
      ],
      "source": [
        "merged"
      ]
    },
    {
      "cell_type": "code",
      "execution_count": 16,
      "metadata": {},
      "outputs": [
        {
          "name": "stderr",
          "output_type": "stream",
          "text": [
            "/var/folders/h7/zcn54x3s1s57twfg5qrgh2pc0000gn/T/ipykernel_91451/1077297322.py:1: SettingWithCopyWarning: \n",
            "A value is trying to be set on a copy of a slice from a DataFrame\n",
            "\n",
            "See the caveats in the documentation: https://pandas.pydata.org/pandas-docs/stable/user_guide/indexing.html#returning-a-view-versus-a-copy\n",
            "  merged.loc[163] = [\"South Korea\", 33, 36024, 51741963,14039]\n"
          ]
        },
        {
          "data": {
            "application/vnd.microsoft.datawrangler.viewer.v0+json": {
              "columns": [
                {
                  "name": "index",
                  "rawType": "int64",
                  "type": "integer"
                },
                {
                  "name": "Country",
                  "rawType": "object",
                  "type": "string"
                },
                {
                  "name": "Num_Schools",
                  "rawType": "int64",
                  "type": "integer"
                },
                {
                  "name": "GDP per capita (PPP)",
                  "rawType": "float64",
                  "type": "float"
                },
                {
                  "name": "Youth_Population",
                  "rawType": "float64",
                  "type": "float"
                },
                {
                  "name": "Visas",
                  "rawType": "object",
                  "type": "unknown"
                }
              ],
              "ref": "5612adae-ade5-4fe0-bf9e-687a436414d7",
              "rows": [
                [
                  "1",
                  "Albania",
                  "4",
                  "23488.0989465081",
                  "37097000.0",
                  "461"
                ],
                [
                  "2",
                  "Algeria",
                  "1",
                  "17552.7742475631",
                  "372104000.0",
                  "465"
                ],
                [
                  "3",
                  "Angola",
                  "3",
                  "8347.95279117055",
                  "222522000.0",
                  "370"
                ],
                [
                  "4",
                  "Anguilla",
                  "1",
                  "28561.3",
                  "145000.0",
                  "0"
                ],
                [
                  "5",
                  "Argentina",
                  "36",
                  "30175.5359656699",
                  "405125000.0",
                  "1,984"
                ],
                [
                  "6",
                  "Armenia",
                  "4",
                  "22823.1795255692",
                  "36900000.0",
                  "1,274"
                ],
                [
                  "7",
                  "Aruba",
                  "1",
                  "44967.0",
                  "933000.0",
                  "0"
                ],
                [
                  "8",
                  "Australia",
                  "61",
                  "71193.2158509788",
                  "180756000.0",
                  "2,180"
                ],
                [
                  "9",
                  "Austria",
                  "17",
                  "71617.9017496321",
                  "75322000.0",
                  "568"
                ],
                [
                  "10",
                  "Azerbaijan",
                  "9",
                  "25088.9501767555",
                  "97282000.0",
                  "1,062"
                ],
                [
                  "11",
                  "Bahamas",
                  "6",
                  "41197.9183829907",
                  "3419000.0",
                  "1,350"
                ],
                [
                  "12",
                  "Bahrain",
                  "32",
                  "67210.9890947485",
                  "6876000.0",
                  "241"
                ],
                [
                  "13",
                  "Bangladesh",
                  "9",
                  "9646.76984383255",
                  "1692736000.0",
                  "5,689"
                ],
                [
                  "14",
                  "Barbados",
                  "3",
                  "22671.9466863479",
                  "3293000.0",
                  "960"
                ],
                [
                  "15",
                  "Belgium",
                  "21",
                  "72126.0028888089",
                  "97646000.0",
                  "863"
                ],
                [
                  "18",
                  "Botswana",
                  "4",
                  "20538.1320160386",
                  "21034000.0",
                  "150"
                ],
                [
                  "19",
                  "Brazil",
                  "61",
                  "22333.4116642585",
                  "2002351000.0",
                  "6,141"
                ],
                [
                  "20",
                  "British Virgin Islands",
                  "1",
                  "44515.89592",
                  "205000.0",
                  "0"
                ],
                [
                  "22",
                  "Bulgaria",
                  "10",
                  "41086.3036455051",
                  "81685000.0",
                  "210"
                ],
                [
                  "23",
                  "Burkina Faso",
                  "2",
                  "2896.18741593759",
                  "173771000.0",
                  "174"
                ],
                [
                  "24",
                  "Cambodia",
                  "47",
                  "7969.93361077408",
                  "153181000.0",
                  "1,173"
                ],
                [
                  "25",
                  "Cameroon",
                  "4",
                  "5591.49639781706",
                  "205714000.0",
                  "598"
                ],
                [
                  "26",
                  "Canada",
                  "72",
                  "65463.0990993361",
                  "289214000.0",
                  "3,549"
                ],
                [
                  "28",
                  "Chile",
                  "25",
                  "34637.1168279143",
                  "173578000.0",
                  "1,196"
                ],
                [
                  "29",
                  "China",
                  "287",
                  "27104.8702677463",
                  "13777100000.0",
                  "78,410"
                ],
                [
                  "30",
                  "Colombia",
                  "40",
                  "21494.6002713853",
                  "470489000.0",
                  "4,836"
                ],
                [
                  "31",
                  "Costa Rica",
                  "22",
                  "30062.849160468",
                  "42709000.0",
                  "707"
                ],
                [
                  "32",
                  "Croatia",
                  "2",
                  "48575.4314219866",
                  "45599000.0",
                  "146"
                ],
                [
                  "33",
                  "Cuba",
                  "1",
                  "7433.43",
                  "122169000.0",
                  "506"
                ],
                [
                  "34",
                  "Curacao",
                  "1",
                  "30716.0",
                  "2012000.0",
                  "0"
                ],
                [
                  "35",
                  "Cyprus",
                  "9",
                  "61239.9375",
                  "9743000.0",
                  "218"
                ],
                [
                  "36",
                  "Czech Republic",
                  "21",
                  "56805.6467676779",
                  "101539000.0",
                  "557"
                ],
                [
                  "37",
                  "Democratic Republic of the Congo",
                  "1",
                  "1709.73207724172",
                  "685796000.0",
                  "798"
                ],
                [
                  "38",
                  "Denmark",
                  "12",
                  "79514.2854383058",
                  "52058000.0",
                  "688"
                ],
                [
                  "39",
                  "Djibouti",
                  "1",
                  "7776.22613645201",
                  "8232000.0",
                  "136"
                ],
                [
                  "40",
                  "Dominican Republic",
                  "25",
                  "27541.183570599",
                  "108756000.0",
                  "6,228"
                ],
                [
                  "41",
                  "East Timor",
                  "1",
                  "4758.39202005466",
                  "12913000.0",
                  "0"
                ],
                [
                  "42",
                  "Ecuador",
                  "15",
                  "15840.2668567412",
                  "155904000.0",
                  "2,390"
                ],
                [
                  "43",
                  "Egypt",
                  "97",
                  "19094.1449444111",
                  "900865000.0",
                  "1,184"
                ],
                [
                  "44",
                  "El Salvador",
                  "4",
                  "13264.027090968",
                  "78762000.0",
                  "1,095"
                ],
                [
                  "45",
                  "Eritrea",
                  "1",
                  "2162.0",
                  "32878000.0",
                  "4"
                ],
                [
                  "46",
                  "Estonia",
                  "6",
                  "49333.8067758296",
                  "13806000.0",
                  "131"
                ],
                [
                  "47",
                  "Eswatini",
                  "1",
                  "11784.2800637308",
                  "13335000.0",
                  "410"
                ],
                [
                  "48",
                  "Ethiopia",
                  "14",
                  "3278.48967257937",
                  "927468000.0",
                  "1,908"
                ],
                [
                  "49",
                  "Fiji",
                  "1",
                  "16032.257408619",
                  "10782000.0",
                  "99"
                ],
                [
                  "50",
                  "Finland",
                  "2",
                  "64091.2251829548",
                  "51967000.0",
                  "357"
                ],
                [
                  "51",
                  "France",
                  "31",
                  "61321.691319446",
                  "577269000.0",
                  "7,431"
                ],
                [
                  "52",
                  "Gabon",
                  "6",
                  "21509.5227883553",
                  "16366000.0",
                  "97"
                ],
                [
                  "53",
                  "Gambia",
                  "3",
                  "3445.25159248185",
                  "19057000.0",
                  "100"
                ],
                [
                  "54",
                  "Georgia",
                  "6",
                  "28417.7518669146",
                  "52721000.0",
                  "413"
                ]
              ],
              "shape": {
                "columns": 5,
                "rows": 149
              }
            },
            "text/html": [
              "<div>\n",
              "<style scoped>\n",
              "    .dataframe tbody tr th:only-of-type {\n",
              "        vertical-align: middle;\n",
              "    }\n",
              "\n",
              "    .dataframe tbody tr th {\n",
              "        vertical-align: top;\n",
              "    }\n",
              "\n",
              "    .dataframe thead th {\n",
              "        text-align: right;\n",
              "    }\n",
              "</style>\n",
              "<table border=\"1\" class=\"dataframe\">\n",
              "  <thead>\n",
              "    <tr style=\"text-align: right;\">\n",
              "      <th></th>\n",
              "      <th>Country</th>\n",
              "      <th>Num_Schools</th>\n",
              "      <th>GDP per capita (PPP)</th>\n",
              "      <th>Youth_Population</th>\n",
              "      <th>Visas</th>\n",
              "    </tr>\n",
              "  </thead>\n",
              "  <tbody>\n",
              "    <tr>\n",
              "      <th>1</th>\n",
              "      <td>Albania</td>\n",
              "      <td>4</td>\n",
              "      <td>23488.098947</td>\n",
              "      <td>37097000.0</td>\n",
              "      <td>461</td>\n",
              "    </tr>\n",
              "    <tr>\n",
              "      <th>2</th>\n",
              "      <td>Algeria</td>\n",
              "      <td>1</td>\n",
              "      <td>17552.774248</td>\n",
              "      <td>372104000.0</td>\n",
              "      <td>465</td>\n",
              "    </tr>\n",
              "    <tr>\n",
              "      <th>3</th>\n",
              "      <td>Angola</td>\n",
              "      <td>3</td>\n",
              "      <td>8347.952791</td>\n",
              "      <td>222522000.0</td>\n",
              "      <td>370</td>\n",
              "    </tr>\n",
              "    <tr>\n",
              "      <th>4</th>\n",
              "      <td>Anguilla</td>\n",
              "      <td>1</td>\n",
              "      <td>28561.300000</td>\n",
              "      <td>145000.0</td>\n",
              "      <td>0</td>\n",
              "    </tr>\n",
              "    <tr>\n",
              "      <th>5</th>\n",
              "      <td>Argentina</td>\n",
              "      <td>36</td>\n",
              "      <td>30175.535966</td>\n",
              "      <td>405125000.0</td>\n",
              "      <td>1,984</td>\n",
              "    </tr>\n",
              "    <tr>\n",
              "      <th>...</th>\n",
              "      <td>...</td>\n",
              "      <td>...</td>\n",
              "      <td>...</td>\n",
              "      <td>...</td>\n",
              "      <td>...</td>\n",
              "    </tr>\n",
              "    <tr>\n",
              "      <th>159</th>\n",
              "      <td>Vietnam</td>\n",
              "      <td>63</td>\n",
              "      <td>16385.506557</td>\n",
              "      <td>894347000.0</td>\n",
              "      <td>20,478</td>\n",
              "    </tr>\n",
              "    <tr>\n",
              "      <th>160</th>\n",
              "      <td>Yemen</td>\n",
              "      <td>1</td>\n",
              "      <td>1996.000000</td>\n",
              "      <td>272163000.0</td>\n",
              "      <td>152</td>\n",
              "    </tr>\n",
              "    <tr>\n",
              "      <th>161</th>\n",
              "      <td>Zambia</td>\n",
              "      <td>9</td>\n",
              "      <td>4223.950208</td>\n",
              "      <td>150325000.0</td>\n",
              "      <td>368</td>\n",
              "    </tr>\n",
              "    <tr>\n",
              "      <th>162</th>\n",
              "      <td>Zimbabwe</td>\n",
              "      <td>1</td>\n",
              "      <td>3921.697956</td>\n",
              "      <td>163028000.0</td>\n",
              "      <td>1,365</td>\n",
              "    </tr>\n",
              "    <tr>\n",
              "      <th>163</th>\n",
              "      <td>South Korea</td>\n",
              "      <td>33</td>\n",
              "      <td>36024.000000</td>\n",
              "      <td>51741963.0</td>\n",
              "      <td>14039</td>\n",
              "    </tr>\n",
              "  </tbody>\n",
              "</table>\n",
              "<p>149 rows × 5 columns</p>\n",
              "</div>"
            ],
            "text/plain": [
              "         Country  Num_Schools  GDP per capita (PPP)  Youth_Population   Visas\n",
              "1        Albania            4          23488.098947        37097000.0     461\n",
              "2        Algeria            1          17552.774248       372104000.0     465\n",
              "3         Angola            3           8347.952791       222522000.0     370\n",
              "4       Anguilla            1          28561.300000          145000.0       0\n",
              "5      Argentina           36          30175.535966       405125000.0   1,984\n",
              "..           ...          ...                   ...               ...     ...\n",
              "159      Vietnam           63          16385.506557       894347000.0  20,478\n",
              "160        Yemen            1           1996.000000       272163000.0     152\n",
              "161       Zambia            9           4223.950208       150325000.0     368\n",
              "162     Zimbabwe            1           3921.697956       163028000.0   1,365\n",
              "163  South Korea           33          36024.000000        51741963.0   14039\n",
              "\n",
              "[149 rows x 5 columns]"
            ]
          },
          "execution_count": 16,
          "metadata": {},
          "output_type": "execute_result"
        }
      ],
      "source": [
        "merged.loc[163] = [\"South Korea\", 33, 36024, 51741963,14039]\n",
        "merged"
      ]
    },
    {
      "cell_type": "code",
      "execution_count": 20,
      "metadata": {},
      "outputs": [
        {
          "name": "stderr",
          "output_type": "stream",
          "text": [
            "/var/folders/h7/zcn54x3s1s57twfg5qrgh2pc0000gn/T/ipykernel_91451/952213174.py:23: FutureWarning: Downcasting object dtype arrays on .fillna, .ffill, .bfill is deprecated and will change in a future version. Call result.infer_objects(copy=False) instead. To opt-in to the future behavior, set `pd.set_option('future.no_silent_downcasting', True)`\n",
            "  merged_scaled[features] = scaler.fit_transform(merged[features].fillna(0))\n"
          ]
        },
        {
          "data": {
            "application/vnd.microsoft.datawrangler.viewer.v0+json": {
              "columns": [
                {
                  "name": "index",
                  "rawType": "int64",
                  "type": "integer"
                },
                {
                  "name": "Country",
                  "rawType": "object",
                  "type": "string"
                },
                {
                  "name": "Num_Schools",
                  "rawType": "float64",
                  "type": "float"
                },
                {
                  "name": "GDP per capita (PPP)",
                  "rawType": "float64",
                  "type": "float"
                },
                {
                  "name": "Youth_Population",
                  "rawType": "float64",
                  "type": "float"
                },
                {
                  "name": "Visas",
                  "rawType": "float64",
                  "type": "float"
                }
              ],
              "ref": "d25ea9a6-19ef-401d-b04d-804e50c2017c",
              "rows": [
                [
                  "1",
                  "Albania",
                  "0.01048951048951049",
                  "0.14615956284300255",
                  "0.0026821601725490135",
                  "0.005548133973595214"
                ],
                [
                  "2",
                  "Algeria",
                  "0.0",
                  "0.10634458305079694",
                  "0.026998636491154974",
                  "0.005596273964689316"
                ],
                [
                  "3",
                  "Angola",
                  "0.006993006993006994",
                  "0.0445973663665483",
                  "0.016141230046842717",
                  "0.004452949176204402"
                ],
                [
                  "4",
                  "Anguilla",
                  "0.0",
                  "0.18019129786543184",
                  "0.0",
                  "0.0"
                ],
                [
                  "5",
                  "Argentina",
                  "0.12237762237762238",
                  "0.19101981620486197",
                  "0.02939546510821876",
                  "0.023877435582674415"
                ],
                [
                  "6",
                  "Armenia",
                  "0.01048951048951049",
                  "0.141699191313062",
                  "0.0026678609315338546",
                  "0.015332587163471374"
                ],
                [
                  "7",
                  "Aruba",
                  "0.0",
                  "0.29024300474055725",
                  "5.719696406063604e-05",
                  "0.0"
                ],
                [
                  "8",
                  "Australia",
                  "0.2097902097902098",
                  "0.4661720915381756",
                  "0.013109645781669461",
                  "0.026236295146285397"
                ],
                [
                  "9",
                  "Austria",
                  "0.055944055944055944",
                  "0.46902094334167027",
                  "0.0054567210243482685",
                  "0.006835878735362433"
                ],
                [
                  "10",
                  "Azerbaijan",
                  "0.027972027972027975",
                  "0.15689829452417867",
                  "0.00705068718014975",
                  "0.012781167635483986"
                ],
                [
                  "11",
                  "Bahamas",
                  "0.017482517482517484",
                  "0.26495948344591386",
                  "0.00023764322377477462",
                  "0.016247246994259307"
                ],
                [
                  "12",
                  "Bahrain",
                  "0.10839160839160839",
                  "0.439458763140915",
                  "0.0004885694988478949",
                  "0.002900434463419624"
                ],
                [
                  "13",
                  "Bangladesh",
                  "0.027972027972027975",
                  "0.05331001096958095",
                  "0.12285668349791372",
                  "0.06846710233358606"
                ],
                [
                  "14",
                  "Barbados",
                  "0.006993006993006994",
                  "0.14068470049024578",
                  "0.00022849751632345462",
                  "0.011553597862584395"
                ],
                [
                  "15",
                  "Belgium",
                  "0.06993006993006992",
                  "0.47242935612695847",
                  "0.0070771081127868965",
                  "0.01038620307855243"
                ],
                [
                  "18",
                  "Botswana",
                  "0.01048951048951049",
                  "0.1263707762674012",
                  "0.0015162276424652615",
                  "0.0018052496660288116"
                ],
                [
                  "19",
                  "Brazil",
                  "0.2097902097902098",
                  "0.13841376069383682",
                  "0.1453300820101394",
                  "0.07390692132721956"
                ],
                [
                  "20",
                  "British Virgin Islands",
                  "0.0",
                  "0.2872169361191432",
                  "4.355098786342845e-06",
                  "0.0"
                ],
                [
                  "22",
                  "Bulgaria",
                  "0.03146853146853147",
                  "0.2642107563344398",
                  "0.005918579250639927",
                  "0.0025273495324403365"
                ],
                [
                  "23",
                  "Burkina Faso",
                  "0.0034965034965034965",
                  "0.00802616946381961",
                  "0.012602639697959382",
                  "0.0020940896125934217"
                ],
                [
                  "24",
                  "Cambodia",
                  "0.16083916083916083",
                  "0.042061561369860105",
                  "0.011108114964446062",
                  "0.014117052388345307"
                ],
                [
                  "25",
                  "Cameroon",
                  "0.01048951048951049",
                  "0.026106675264345784",
                  "0.01492122170682854",
                  "0.007196928668568196"
                ],
                [
                  "26",
                  "Canada",
                  "0.24825174825174828",
                  "0.42773367506633786",
                  "0.020982067517822334",
                  "0.04271220709824169"
                ],
                [
                  "28",
                  "Chile",
                  "0.0839160839160839",
                  "0.22094871830909343",
                  "0.012588630796863311",
                  "0.014393857337136391"
                ],
                [
                  "29",
                  "China",
                  "1.0",
                  "0.17042136558712603",
                  "1.0",
                  "0.9436641754221275"
                ],
                [
                  "30",
                  "Colombia",
                  "0.13636363636363638",
                  "0.13278689774181424",
                  "0.03413990972606065",
                  "0.05820124923276889"
                ],
                [
                  "31",
                  "Costa Rica",
                  "0.07342657342657342",
                  "0.19026389751472536",
                  "0.0030895070790316146",
                  "0.008508743425882466"
                ],
                [
                  "32",
                  "Croatia",
                  "0.0034965034965034965",
                  "0.31444886228588975",
                  "0.003299277670573795",
                  "0.00175710967493471"
                ],
                [
                  "33",
                  "Cuba",
                  "0.0",
                  "0.03846262087293797",
                  "0.008857109571744988",
                  "0.006089708873403858"
                ],
                [
                  "34",
                  "Curacao",
                  "0.0",
                  "0.19464532377129581",
                  "0.00013551615723503488",
                  "0.0"
                ],
                [
                  "35",
                  "Cyprus",
                  "0.027972027972027975",
                  "0.3994041223854756",
                  "0.0006966706358553105",
                  "0.0026236295146285396"
                ],
                [
                  "36",
                  "Czech Republic",
                  "0.06993006993006992",
                  "0.36965828625092495",
                  "0.007359681439040775",
                  "0.006703493759853654"
                ],
                [
                  "37",
                  "Democratic Republic of the Congo",
                  "0.0",
                  "6.726279390698552e-05",
                  "0.04976796396591264",
                  "0.009603928223273278"
                ],
                [
                  "38",
                  "Denmark",
                  "0.038461538461538464",
                  "0.5219909783343522",
                  "0.003768104054923602",
                  "0.008280078468185483"
                ],
                [
                  "39",
                  "Djibouti",
                  "0.0",
                  "0.04076214481441819",
                  "0.0005869947314192432",
                  "0.001636759697199456"
                ],
                [
                  "40",
                  "Dominican Republic",
                  "0.0839160839160839",
                  "0.17334821562773772",
                  "0.007883527238058047",
                  "0.07495396613351626"
                ],
                [
                  "41",
                  "East Timor",
                  "0.0",
                  "0.02051809575978996",
                  "0.0009267650217337574",
                  "0.0"
                ],
                [
                  "42",
                  "Ecuador",
                  "0.04895104895104895",
                  "0.0948568463863317",
                  "0.011305763864366254",
                  "0.028763644678725733"
                ],
                [
                  "43",
                  "Egypt",
                  "0.3356643356643357",
                  "0.11668431107919097",
                  "0.0653787429805788",
                  "0.014249437363854088"
                ],
                [
                  "44",
                  "El Salvador",
                  "0.01048951048951049",
                  "0.07757507337189684",
                  "0.005706413354765258",
                  "0.013178322562010325"
                ],
                [
                  "45",
                  "Eritrea",
                  "0.0",
                  "0.0031011386336709766",
                  "0.0023759241428893394",
                  "4.8139991094101646e-05"
                ],
                [
                  "46",
                  "Estonia",
                  "0.017482517482517484",
                  "0.31953614915218925",
                  "0.0009915834086704936",
                  "0.001576584708331829"
                ],
                [
                  "47",
                  "Eswatini",
                  "0.0",
                  "0.06764872545069586",
                  "0.0009573958831977021",
                  "0.004934349087145419"
                ],
                [
                  "48",
                  "Ethiopia",
                  "0.045454545454545456",
                  "0.0105907059289287",
                  "0.06730972119746344",
                  "0.022962775751886485"
                ],
                [
                  "49",
                  "Fiji",
                  "0.0",
                  "0.09614474558831937",
                  "0.0007720864298388141",
                  "0.0011914647795790156"
                ],
                [
                  "50",
                  "Finland",
                  "0.0034965034965034965",
                  "0.4185309549071721",
                  "0.0037614988217643157",
                  "0.004296494205148572"
                ],
                [
                  "51",
                  "France",
                  "0.10489510489510488",
                  "0.39995253832466704",
                  "0.041890533866155474",
                  "0.08943206845506733"
                ],
                [
                  "52",
                  "Gabon",
                  "0.017482517482517484",
                  "0.13288700005158594",
                  "0.0011774009568877883",
                  "0.001167394784031965"
                ],
                [
                  "53",
                  "Gambia",
                  "0.006993006993006994",
                  "0.011709367974866443",
                  "0.0013727271374552649",
                  "0.001203499777352541"
                ],
                [
                  "54",
                  "Georgia",
                  "0.017482517482517484",
                  "0.1792283571152788",
                  "0.0038162278965126906",
                  "0.004970454080465995"
                ]
              ],
              "shape": {
                "columns": 5,
                "rows": 149
              }
            },
            "text/html": [
              "<div>\n",
              "<style scoped>\n",
              "    .dataframe tbody tr th:only-of-type {\n",
              "        vertical-align: middle;\n",
              "    }\n",
              "\n",
              "    .dataframe tbody tr th {\n",
              "        vertical-align: top;\n",
              "    }\n",
              "\n",
              "    .dataframe thead th {\n",
              "        text-align: right;\n",
              "    }\n",
              "</style>\n",
              "<table border=\"1\" class=\"dataframe\">\n",
              "  <thead>\n",
              "    <tr style=\"text-align: right;\">\n",
              "      <th></th>\n",
              "      <th>Country</th>\n",
              "      <th>Num_Schools</th>\n",
              "      <th>GDP per capita (PPP)</th>\n",
              "      <th>Youth_Population</th>\n",
              "      <th>Visas</th>\n",
              "    </tr>\n",
              "  </thead>\n",
              "  <tbody>\n",
              "    <tr>\n",
              "      <th>1</th>\n",
              "      <td>Albania</td>\n",
              "      <td>0.010490</td>\n",
              "      <td>0.146160</td>\n",
              "      <td>0.002682</td>\n",
              "      <td>0.005548</td>\n",
              "    </tr>\n",
              "    <tr>\n",
              "      <th>2</th>\n",
              "      <td>Algeria</td>\n",
              "      <td>0.000000</td>\n",
              "      <td>0.106345</td>\n",
              "      <td>0.026999</td>\n",
              "      <td>0.005596</td>\n",
              "    </tr>\n",
              "    <tr>\n",
              "      <th>3</th>\n",
              "      <td>Angola</td>\n",
              "      <td>0.006993</td>\n",
              "      <td>0.044597</td>\n",
              "      <td>0.016141</td>\n",
              "      <td>0.004453</td>\n",
              "    </tr>\n",
              "    <tr>\n",
              "      <th>4</th>\n",
              "      <td>Anguilla</td>\n",
              "      <td>0.000000</td>\n",
              "      <td>0.180191</td>\n",
              "      <td>0.000000</td>\n",
              "      <td>0.000000</td>\n",
              "    </tr>\n",
              "    <tr>\n",
              "      <th>5</th>\n",
              "      <td>Argentina</td>\n",
              "      <td>0.122378</td>\n",
              "      <td>0.191020</td>\n",
              "      <td>0.029395</td>\n",
              "      <td>0.023877</td>\n",
              "    </tr>\n",
              "    <tr>\n",
              "      <th>...</th>\n",
              "      <td>...</td>\n",
              "      <td>...</td>\n",
              "      <td>...</td>\n",
              "      <td>...</td>\n",
              "      <td>...</td>\n",
              "    </tr>\n",
              "    <tr>\n",
              "      <th>159</th>\n",
              "      <td>Vietnam</td>\n",
              "      <td>0.216783</td>\n",
              "      <td>0.098514</td>\n",
              "      <td>0.064906</td>\n",
              "      <td>0.246453</td>\n",
              "    </tr>\n",
              "    <tr>\n",
              "      <th>160</th>\n",
              "      <td>Yemen</td>\n",
              "      <td>0.000000</td>\n",
              "      <td>0.001988</td>\n",
              "      <td>0.019744</td>\n",
              "      <td>0.001829</td>\n",
              "    </tr>\n",
              "    <tr>\n",
              "      <th>161</th>\n",
              "      <td>Zambia</td>\n",
              "      <td>0.027972</td>\n",
              "      <td>0.016933</td>\n",
              "      <td>0.010901</td>\n",
              "      <td>0.004429</td>\n",
              "    </tr>\n",
              "    <tr>\n",
              "      <th>162</th>\n",
              "      <td>Zimbabwe</td>\n",
              "      <td>0.000000</td>\n",
              "      <td>0.014905</td>\n",
              "      <td>0.011823</td>\n",
              "      <td>0.016428</td>\n",
              "    </tr>\n",
              "    <tr>\n",
              "      <th>163</th>\n",
              "      <td>South Korea</td>\n",
              "      <td>0.111888</td>\n",
              "      <td>0.230252</td>\n",
              "      <td>0.003745</td>\n",
              "      <td>0.168959</td>\n",
              "    </tr>\n",
              "  </tbody>\n",
              "</table>\n",
              "<p>149 rows × 5 columns</p>\n",
              "</div>"
            ],
            "text/plain": [
              "         Country  Num_Schools  GDP per capita (PPP)  Youth_Population  \\\n",
              "1        Albania     0.010490              0.146160          0.002682   \n",
              "2        Algeria     0.000000              0.106345          0.026999   \n",
              "3         Angola     0.006993              0.044597          0.016141   \n",
              "4       Anguilla     0.000000              0.180191          0.000000   \n",
              "5      Argentina     0.122378              0.191020          0.029395   \n",
              "..           ...          ...                   ...               ...   \n",
              "159      Vietnam     0.216783              0.098514          0.064906   \n",
              "160        Yemen     0.000000              0.001988          0.019744   \n",
              "161       Zambia     0.027972              0.016933          0.010901   \n",
              "162     Zimbabwe     0.000000              0.014905          0.011823   \n",
              "163  South Korea     0.111888              0.230252          0.003745   \n",
              "\n",
              "        Visas  \n",
              "1    0.005548  \n",
              "2    0.005596  \n",
              "3    0.004453  \n",
              "4    0.000000  \n",
              "5    0.023877  \n",
              "..        ...  \n",
              "159  0.246453  \n",
              "160  0.001829  \n",
              "161  0.004429  \n",
              "162  0.016428  \n",
              "163  0.168959  \n",
              "\n",
              "[149 rows x 5 columns]"
            ]
          },
          "execution_count": 20,
          "metadata": {},
          "output_type": "execute_result"
        }
      ],
      "source": [
        "from sklearn.preprocessing import MinMaxScaler\n",
        "import pandas as pd\n",
        "\n",
        "# Make a full copy of merged to avoid SettingWithCopyWarning\n",
        "merged = merged.copy()\n",
        "\n",
        "# Define the features\n",
        "features = ['Num_Schools', 'GDP per capita (PPP)', 'Youth_Population', 'Visas']\n",
        "\n",
        "# Clean the data using .loc\n",
        "for col in features:\n",
        "    merged.loc[:, col] = (\n",
        "        merged[col]\n",
        "        .astype(str)\n",
        "        .str.replace(',', '', regex=False)\n",
        "        .replace({'..': None, '': None})\n",
        "    )\n",
        "    merged.loc[:, col] = pd.to_numeric(merged[col], errors='coerce')\n",
        "\n",
        "# Scale the data\n",
        "scaler = MinMaxScaler()\n",
        "merged_scaled = merged.copy()\n",
        "merged_scaled[features] = scaler.fit_transform(merged[features].fillna(0))\n",
        "\n",
        "merged_scaled"
      ]
    },
    {
      "cell_type": "code",
      "execution_count": 22,
      "metadata": {},
      "outputs": [
        {
          "data": {
            "application/vnd.microsoft.datawrangler.viewer.v0+json": {
              "columns": [
                {
                  "name": "index",
                  "rawType": "int64",
                  "type": "integer"
                },
                {
                  "name": "Country",
                  "rawType": "object",
                  "type": "string"
                },
                {
                  "name": "Num_Schools",
                  "rawType": "float64",
                  "type": "float"
                },
                {
                  "name": "GDP per capita (PPP)",
                  "rawType": "float64",
                  "type": "float"
                },
                {
                  "name": "Youth_Population",
                  "rawType": "float64",
                  "type": "float"
                },
                {
                  "name": "Visas",
                  "rawType": "float64",
                  "type": "float"
                },
                {
                  "name": "Score",
                  "rawType": "float64",
                  "type": "float"
                }
              ],
              "ref": "bd97c9a2-486b-421e-8baa-316b03722f5b",
              "rows": [
                [
                  "29",
                  "China",
                  "1.0",
                  "0.17042136558712603",
                  "1.0",
                  "0.9436641754221275",
                  "0.9001413891853509"
                ],
                [
                  "65",
                  "India",
                  "0.3706293706293706",
                  "0.06345346143225464",
                  "0.9339998570075898",
                  "1.0",
                  "0.6413970657964916"
                ],
                [
                  "153",
                  "United Arab Emirates",
                  "0.8076923076923076",
                  "0.5115572066849714",
                  "0.0018091806208265903",
                  "0.05278550023468245",
                  "0.3904301299399902"
                ],
                [
                  "136",
                  "Spain",
                  "0.4755244755244755",
                  "0.37046724169787326",
                  "0.0288400448430005",
                  "0.061571048609356006",
                  "0.25149583793098446"
                ],
                [
                  "120",
                  "Qatar",
                  "0.3531468531468532",
                  "0.8345622123799006",
                  "0.000393846100244938",
                  "0.013370882526386732",
                  "0.22880499647469635"
                ],
                [
                  "145",
                  "Thailand",
                  "0.43006993006993005",
                  "0.15434446436270277",
                  "0.049274894198318854",
                  "0.06075266876075628",
                  "0.21554319793213297"
                ],
                [
                  "130",
                  "Singapore",
                  "0.24125874125874128",
                  "0.9994428406932443",
                  "0.0027021936269661906",
                  "0.034528408612244404",
                  "0.2073467418818875"
                ],
                [
                  "89",
                  "Malaysia",
                  "0.4335664335664336",
                  "0.248397254982281",
                  "0.01968410290953262",
                  "0.014562347305965747",
                  "0.2065718236984978"
                ],
                [
                  "74",
                  "Japan",
                  "0.27972027972027974",
                  "0.33530853876662603",
                  "0.0863104365224391",
                  "0.0762056059019629",
                  "0.1855427348398512"
                ],
                [
                  "159",
                  "Vietnam",
                  "0.2167832167832168",
                  "0.098514389777932",
                  "0.06490563408242242",
                  "0.24645268440625337",
                  "0.18348165782944043"
                ],
                [
                  "108",
                  "Nigeria",
                  "0.34265734265734266",
                  "0.03179729995034132",
                  "0.12472269815790209",
                  "0.05905573407468919",
                  "0.18290392691195836"
                ],
                [
                  "55",
                  "Germany",
                  "0.24125874125874128",
                  "0.47359736120196166",
                  "0.052919676372609185",
                  "0.07679532079286565",
                  "0.17748576413607423"
                ],
                [
                  "43",
                  "Egypt",
                  "0.3356643356643357",
                  "0.11668431107919097",
                  "0.0653787429805788",
                  "0.014249437363854088",
                  "0.16328474517892536"
                ],
                [
                  "26",
                  "Canada",
                  "0.24825174825174828",
                  "0.42773367506633786",
                  "0.020982067517822334",
                  "0.04271220709824169",
                  "0.1590841424403701"
                ],
                [
                  "125",
                  "Saudi Arabia",
                  "0.2272727272727273",
                  "0.46650894291150935",
                  "0.012564605168558653",
                  "0.06175157357595889",
                  "0.15859837830674128"
                ],
                [
                  "141",
                  "Switzerland",
                  "0.2027972027972028",
                  "0.6179470217614826",
                  "0.004592959765056938",
                  "0.022854460771924757",
                  "0.1506885134796182"
                ],
                [
                  "66",
                  "Indonesia",
                  "0.24125874125874128",
                  "0.09893545266107386",
                  "0.18432055559446917",
                  "0.024094065542597874",
                  "0.15048937255127712"
                ],
                [
                  "19",
                  "Brazil",
                  "0.2097902097902098",
                  "0.13841376069383682",
                  "0.1453300820101394",
                  "0.07390692132721956",
                  "0.14899555278566134"
                ],
                [
                  "71",
                  "Italy",
                  "0.18181818181818182",
                  "0.39676812937848444",
                  "0.03907278495139165",
                  "0.07580845097543656",
                  "0.14296117794803048"
                ],
                [
                  "8",
                  "Australia",
                  "0.2097902097902098",
                  "0.4661720915381756",
                  "0.013109645781669461",
                  "0.026236295146285397",
                  "0.14102611077012098"
                ],
                [
                  "94",
                  "Mexico",
                  "0.17832167832167833",
                  "0.16091745098234278",
                  "0.08937352266883357",
                  "0.11470556377947069",
                  "0.13970679009451353"
                ],
                [
                  "78",
                  "Kuwait",
                  "0.2062937062937063",
                  "0.3349793104301416",
                  "0.0014828385517699665",
                  "0.01959297637529937",
                  "0.12218987418344049"
                ],
                [
                  "163",
                  "South Korea",
                  "0.11188811188811189",
                  "0.2302521226334697",
                  "0.0037451645156712783",
                  "0.16895933374252325",
                  "0.11921729004448296"
                ],
                [
                  "51",
                  "France",
                  "0.10489510489510488",
                  "0.39995253832466704",
                  "0.041890533866155474",
                  "0.08943206845506733",
                  "0.11716102310025997"
                ],
                [
                  "154",
                  "United Kingdom",
                  "0.11188811188811189",
                  "0.395248050098477",
                  "0.042024090228936654",
                  "0.07916621535425016",
                  "0.11643473241715482"
                ],
                [
                  "142",
                  "Taiwan",
                  "0.07342657342657342",
                  "0.5187495425246198",
                  "0.01694343924328707",
                  "0.0886618285975617",
                  "0.11123282005101727"
                ],
                [
                  "77",
                  "Kenya",
                  "0.22377622377622378",
                  "0.03300171704709399",
                  "0.031200218045279234",
                  "0.022673935805321874",
                  "0.10585288556585132"
                ],
                [
                  "103",
                  "Netherlands",
                  "0.09790209790209789",
                  "0.5535472234606744",
                  "0.011183966268308199",
                  "0.016271316989806356",
                  "0.10163374985751014"
                ],
                [
                  "86",
                  "Luxembourg",
                  "0.0",
                  "0.9999999999999998",
                  "0.00026428191135123834",
                  "0.001432164735049524",
                  "0.10048250580278509"
                ],
                [
                  "134",
                  "South Africa",
                  "0.17832167832167833",
                  "0.09228912050226834",
                  "0.04007075583828212",
                  "0.024563430455765364",
                  "0.0959407636832842"
                ],
                [
                  "69",
                  "Ireland",
                  "0.01048951048951049",
                  "0.8685389205364269",
                  "0.003209707805534677",
                  "0.00836432345260016",
                  "0.09420093484633386"
                ],
                [
                  "109",
                  "Norway",
                  "0.05244755244755245",
                  "0.6663320196241449",
                  "0.0031690602168621437",
                  "0.015176132192415544",
                  "0.09279887464253257"
                ],
                [
                  "30",
                  "Colombia",
                  "0.13636363636363638",
                  "0.13278689774181424",
                  "0.03413990972606065",
                  "0.05820124923276889",
                  "0.09211250103467877"
                ],
                [
                  "119",
                  "Portugal",
                  "0.12937062937062938",
                  "0.32814125733783495",
                  "0.007656699176269357",
                  "0.009989048152026092",
                  "0.08909043176289695"
                ],
                [
                  "117",
                  "Philippines",
                  "0.13286713286713286",
                  "0.0677148508255824",
                  "0.07539300229985509",
                  "0.0460820064748288",
                  "0.08882154063183104"
                ],
                [
                  "12",
                  "Bahrain",
                  "0.10839160839160839",
                  "0.439458763140915",
                  "0.0004885694988478949",
                  "0.002900434463419624",
                  "0.08827036390953032"
                ],
                [
                  "123",
                  "Russia",
                  "0.08741258741258741",
                  "0.3065972104346902",
                  "0.10898678263810835",
                  "0.00019255996437640658",
                  "0.08747988052543858"
                ],
                [
                  "57",
                  "Gibraltar",
                  "0.0",
                  "0.874072417960523",
                  "1.0379652107450448e-05",
                  "0.0",
                  "0.0874093177264738"
                ],
                [
                  "76",
                  "Kazakhstan",
                  "0.12937062937062938",
                  "0.2623776946825957",
                  "0.014207275845787402",
                  "0.009303053278935143",
                  "0.08361839236934936"
                ],
                [
                  "110",
                  "Oman",
                  "0.13636363636363638",
                  "0.26808722756933046",
                  "0.0017526369215839057",
                  "0.005415748998086435",
                  "0.0833294293861303"
                ],
                [
                  "5",
                  "Argentina",
                  "0.12237762237762238",
                  "0.19101981620486197",
                  "0.02939546510821876",
                  "0.023877435582674415",
                  "0.08109535426798123"
                ],
                [
                  "118",
                  "Poland",
                  "0.0944055944055944",
                  "0.326541172423857",
                  "0.02874880552342662",
                  "0.015729742089997712",
                  "0.08088503873630809"
                ],
                [
                  "15",
                  "Belgium",
                  "0.06993006993006992",
                  "0.47242935612695847",
                  "0.0070771081127868965",
                  "0.01038620307855243",
                  "0.07974624613084694"
                ],
                [
                  "24",
                  "Cambodia",
                  "0.16083916083916083",
                  "0.042061561369860105",
                  "0.011108114964446062",
                  "0.014117052388345307",
                  "0.07499855918204314"
                ],
                [
                  "40",
                  "Dominican Republic",
                  "0.0839160839160839",
                  "0.17334821562773772",
                  "0.007883527238058047",
                  "0.07495396613351626",
                  "0.07496415041687383"
                ],
                [
                  "9",
                  "Austria",
                  "0.055944055944055944",
                  "0.46902094334167027",
                  "0.0054567210243482685",
                  "0.006835878735362433",
                  "0.0724218245372678"
                ],
                [
                  "38",
                  "Denmark",
                  "0.038461538461538464",
                  "0.5219909783343522",
                  "0.003768104054923602",
                  "0.008280078468185483",
                  "0.07082135756949096"
                ],
                [
                  "140",
                  "Sweden",
                  "0.03496503496503497",
                  "0.4650803039097158",
                  "0.005919159930478106",
                  "0.022770215787510078",
                  "0.06850894109933421"
                ],
                [
                  "36",
                  "Czech Republic",
                  "0.06993006993006992",
                  "0.36965828625092495",
                  "0.007359681439040775",
                  "0.006703493759853654",
                  "0.06842084101288472"
                ],
                [
                  "58",
                  "Greece",
                  "0.08041958041958042",
                  "0.28425462050336037",
                  "0.007300597265506057",
                  "0.011240687920472734",
                  "0.06542562004741123"
                ]
              ],
              "shape": {
                "columns": 6,
                "rows": 149
              }
            },
            "text/html": [
              "<div>\n",
              "<style scoped>\n",
              "    .dataframe tbody tr th:only-of-type {\n",
              "        vertical-align: middle;\n",
              "    }\n",
              "\n",
              "    .dataframe tbody tr th {\n",
              "        vertical-align: top;\n",
              "    }\n",
              "\n",
              "    .dataframe thead th {\n",
              "        text-align: right;\n",
              "    }\n",
              "</style>\n",
              "<table border=\"1\" class=\"dataframe\">\n",
              "  <thead>\n",
              "    <tr style=\"text-align: right;\">\n",
              "      <th></th>\n",
              "      <th>Country</th>\n",
              "      <th>Num_Schools</th>\n",
              "      <th>GDP per capita (PPP)</th>\n",
              "      <th>Youth_Population</th>\n",
              "      <th>Visas</th>\n",
              "      <th>Score</th>\n",
              "    </tr>\n",
              "  </thead>\n",
              "  <tbody>\n",
              "    <tr>\n",
              "      <th>29</th>\n",
              "      <td>China</td>\n",
              "      <td>1.000000</td>\n",
              "      <td>0.170421</td>\n",
              "      <td>1.000000</td>\n",
              "      <td>0.943664</td>\n",
              "      <td>0.900141</td>\n",
              "    </tr>\n",
              "    <tr>\n",
              "      <th>65</th>\n",
              "      <td>India</td>\n",
              "      <td>0.370629</td>\n",
              "      <td>0.063453</td>\n",
              "      <td>0.934000</td>\n",
              "      <td>1.000000</td>\n",
              "      <td>0.641397</td>\n",
              "    </tr>\n",
              "    <tr>\n",
              "      <th>153</th>\n",
              "      <td>United Arab Emirates</td>\n",
              "      <td>0.807692</td>\n",
              "      <td>0.511557</td>\n",
              "      <td>0.001809</td>\n",
              "      <td>0.052786</td>\n",
              "      <td>0.390430</td>\n",
              "    </tr>\n",
              "    <tr>\n",
              "      <th>136</th>\n",
              "      <td>Spain</td>\n",
              "      <td>0.475524</td>\n",
              "      <td>0.370467</td>\n",
              "      <td>0.028840</td>\n",
              "      <td>0.061571</td>\n",
              "      <td>0.251496</td>\n",
              "    </tr>\n",
              "    <tr>\n",
              "      <th>120</th>\n",
              "      <td>Qatar</td>\n",
              "      <td>0.353147</td>\n",
              "      <td>0.834562</td>\n",
              "      <td>0.000394</td>\n",
              "      <td>0.013371</td>\n",
              "      <td>0.228805</td>\n",
              "    </tr>\n",
              "    <tr>\n",
              "      <th>...</th>\n",
              "      <td>...</td>\n",
              "      <td>...</td>\n",
              "      <td>...</td>\n",
              "      <td>...</td>\n",
              "      <td>...</td>\n",
              "      <td>...</td>\n",
              "    </tr>\n",
              "    <tr>\n",
              "      <th>83</th>\n",
              "      <td>Lesotho</td>\n",
              "      <td>0.003497</td>\n",
              "      <td>0.008712</td>\n",
              "      <td>0.001864</td>\n",
              "      <td>0.000000</td>\n",
              "      <td>0.002643</td>\n",
              "    </tr>\n",
              "    <tr>\n",
              "      <th>41</th>\n",
              "      <td>East Timor</td>\n",
              "      <td>0.000000</td>\n",
              "      <td>0.020518</td>\n",
              "      <td>0.000927</td>\n",
              "      <td>0.000000</td>\n",
              "      <td>0.002237</td>\n",
              "    </tr>\n",
              "    <tr>\n",
              "      <th>84</th>\n",
              "      <td>Liberia</td>\n",
              "      <td>0.000000</td>\n",
              "      <td>0.001242</td>\n",
              "      <td>0.003004</td>\n",
              "      <td>0.003574</td>\n",
              "      <td>0.001797</td>\n",
              "    </tr>\n",
              "    <tr>\n",
              "      <th>133</th>\n",
              "      <td>Solomon Islands</td>\n",
              "      <td>0.000000</td>\n",
              "      <td>0.007867</td>\n",
              "      <td>0.000409</td>\n",
              "      <td>0.000000</td>\n",
              "      <td>0.000869</td>\n",
              "    </tr>\n",
              "    <tr>\n",
              "      <th>45</th>\n",
              "      <td>Eritrea</td>\n",
              "      <td>0.000000</td>\n",
              "      <td>0.003101</td>\n",
              "      <td>0.002376</td>\n",
              "      <td>0.000048</td>\n",
              "      <td>0.000800</td>\n",
              "    </tr>\n",
              "  </tbody>\n",
              "</table>\n",
              "<p>149 rows × 6 columns</p>\n",
              "</div>"
            ],
            "text/plain": [
              "                  Country  Num_Schools  GDP per capita (PPP)  \\\n",
              "29                  China     1.000000              0.170421   \n",
              "65                  India     0.370629              0.063453   \n",
              "153  United Arab Emirates     0.807692              0.511557   \n",
              "136                 Spain     0.475524              0.370467   \n",
              "120                 Qatar     0.353147              0.834562   \n",
              "..                    ...          ...                   ...   \n",
              "83                Lesotho     0.003497              0.008712   \n",
              "41             East Timor     0.000000              0.020518   \n",
              "84                Liberia     0.000000              0.001242   \n",
              "133       Solomon Islands     0.000000              0.007867   \n",
              "45                Eritrea     0.000000              0.003101   \n",
              "\n",
              "     Youth_Population     Visas     Score  \n",
              "29           1.000000  0.943664  0.900141  \n",
              "65           0.934000  1.000000  0.641397  \n",
              "153          0.001809  0.052786  0.390430  \n",
              "136          0.028840  0.061571  0.251496  \n",
              "120          0.000394  0.013371  0.228805  \n",
              "..                ...       ...       ...  \n",
              "83           0.001864  0.000000  0.002643  \n",
              "41           0.000927  0.000000  0.002237  \n",
              "84           0.003004  0.003574  0.001797  \n",
              "133          0.000409  0.000000  0.000869  \n",
              "45           0.002376  0.000048  0.000800  \n",
              "\n",
              "[149 rows x 6 columns]"
            ]
          },
          "execution_count": 22,
          "metadata": {},
          "output_type": "execute_result"
        }
      ],
      "source": [
        "# Create a composite score (you can adjust weights if you want)\n",
        "merged_scaled[\"Score\"] = (\n",
        "    0.4 * merged_scaled[\"Num_Schools\"] +\n",
        "    0.1 * merged_scaled[\"GDP per capita (PPP)\"] +\n",
        "    0.2 * merged_scaled[\"Youth_Population\"] +\n",
        "    0.3 * merged_scaled[\"Visas\"]\n",
        ")\n",
        "\n",
        "# Sort by score\n",
        "ranking = merged_scaled.sort_values(\"Score\", ascending=False)\n",
        "ranking"
      ]
    },
    {
      "cell_type": "code",
      "execution_count": 26,
      "metadata": {},
      "outputs": [
        {
          "data": {
            "application/vnd.microsoft.datawrangler.viewer.v0+json": {
              "columns": [
                {
                  "name": "index",
                  "rawType": "int64",
                  "type": "integer"
                },
                {
                  "name": "Country",
                  "rawType": "object",
                  "type": "string"
                },
                {
                  "name": "Score",
                  "rawType": "float64",
                  "type": "float"
                }
              ],
              "ref": "5ce9e5fc-d7ce-4fe6-9242-de7c2557f37a",
              "rows": [
                [
                  "153",
                  "United Arab Emirates",
                  "0.3904301299399902"
                ],
                [
                  "136",
                  "Spain",
                  "0.25149583793098446"
                ],
                [
                  "120",
                  "Qatar",
                  "0.22880499647469635"
                ],
                [
                  "145",
                  "Thailand",
                  "0.21554319793213297"
                ],
                [
                  "130",
                  "Singapore",
                  "0.2073467418818875"
                ],
                [
                  "89",
                  "Malaysia",
                  "0.2065718236984978"
                ],
                [
                  "74",
                  "Japan",
                  "0.1855427348398512"
                ],
                [
                  "108",
                  "Nigeria",
                  "0.18290392691195836"
                ],
                [
                  "55",
                  "Germany",
                  "0.17748576413607423"
                ],
                [
                  "43",
                  "Egypt",
                  "0.16328474517892536"
                ]
              ],
              "shape": {
                "columns": 2,
                "rows": 10
              }
            },
            "text/html": [
              "<div>\n",
              "<style scoped>\n",
              "    .dataframe tbody tr th:only-of-type {\n",
              "        vertical-align: middle;\n",
              "    }\n",
              "\n",
              "    .dataframe tbody tr th {\n",
              "        vertical-align: top;\n",
              "    }\n",
              "\n",
              "    .dataframe thead th {\n",
              "        text-align: right;\n",
              "    }\n",
              "</style>\n",
              "<table border=\"1\" class=\"dataframe\">\n",
              "  <thead>\n",
              "    <tr style=\"text-align: right;\">\n",
              "      <th></th>\n",
              "      <th>Country</th>\n",
              "      <th>Score</th>\n",
              "    </tr>\n",
              "  </thead>\n",
              "  <tbody>\n",
              "    <tr>\n",
              "      <th>153</th>\n",
              "      <td>United Arab Emirates</td>\n",
              "      <td>0.390430</td>\n",
              "    </tr>\n",
              "    <tr>\n",
              "      <th>136</th>\n",
              "      <td>Spain</td>\n",
              "      <td>0.251496</td>\n",
              "    </tr>\n",
              "    <tr>\n",
              "      <th>120</th>\n",
              "      <td>Qatar</td>\n",
              "      <td>0.228805</td>\n",
              "    </tr>\n",
              "    <tr>\n",
              "      <th>145</th>\n",
              "      <td>Thailand</td>\n",
              "      <td>0.215543</td>\n",
              "    </tr>\n",
              "    <tr>\n",
              "      <th>130</th>\n",
              "      <td>Singapore</td>\n",
              "      <td>0.207347</td>\n",
              "    </tr>\n",
              "    <tr>\n",
              "      <th>89</th>\n",
              "      <td>Malaysia</td>\n",
              "      <td>0.206572</td>\n",
              "    </tr>\n",
              "    <tr>\n",
              "      <th>74</th>\n",
              "      <td>Japan</td>\n",
              "      <td>0.185543</td>\n",
              "    </tr>\n",
              "    <tr>\n",
              "      <th>108</th>\n",
              "      <td>Nigeria</td>\n",
              "      <td>0.182904</td>\n",
              "    </tr>\n",
              "    <tr>\n",
              "      <th>55</th>\n",
              "      <td>Germany</td>\n",
              "      <td>0.177486</td>\n",
              "    </tr>\n",
              "    <tr>\n",
              "      <th>43</th>\n",
              "      <td>Egypt</td>\n",
              "      <td>0.163285</td>\n",
              "    </tr>\n",
              "  </tbody>\n",
              "</table>\n",
              "</div>"
            ],
            "text/plain": [
              "                  Country     Score\n",
              "153  United Arab Emirates  0.390430\n",
              "136                 Spain  0.251496\n",
              "120                 Qatar  0.228805\n",
              "145              Thailand  0.215543\n",
              "130             Singapore  0.207347\n",
              "89               Malaysia  0.206572\n",
              "74                  Japan  0.185543\n",
              "108               Nigeria  0.182904\n",
              "55                Germany  0.177486\n",
              "43                  Egypt  0.163285"
            ]
          },
          "execution_count": 26,
          "metadata": {},
          "output_type": "execute_result"
        }
      ],
      "source": [
        "existing_countries = ['China' ,'India', 'South Korea', 'Canada', 'Vietnam', 'Taiwan', 'Brazil', 'Turkey' ,'United Kingdom']  # example\n",
        "\n",
        "# Filter them out\n",
        "new_ranking = ranking[~ranking['Country'].isin(existing_countries)]\n",
        "\n",
        "# See the top 10 new opportunities\n",
        "new_ranking[['Country', 'Score']].head(10) #new ranking \n"
      ]
    }
  ],
  "metadata": {
    "colab": {
      "provenance": []
    },
    "kernelspec": {
      "display_name": "Python 3",
      "name": "python3"
    },
    "language_info": {
      "codemirror_mode": {
        "name": "ipython",
        "version": 3
      },
      "file_extension": ".py",
      "mimetype": "text/x-python",
      "name": "python",
      "nbconvert_exporter": "python",
      "pygments_lexer": "ipython3",
      "version": "3.12.1"
    }
  },
  "nbformat": 4,
  "nbformat_minor": 0
}
