{
  "cells": [
    {
      "cell_type": "code",
      "execution_count": 4,
      "metadata": {
        "id": "sCC53EcJvypq"
      },
      "outputs": [],
      "source": [
        "import pandas as pd"
      ]
    },
    {
      "cell_type": "code",
      "execution_count": 5,
      "metadata": {
        "colab": {
          "base_uri": "https://localhost:8080/",
          "height": 144
        },
        "id": "dAEqvyMyh-jl",
        "outputId": "9d1c466b-8963-4405-e33c-393b2d544ce6"
      },
      "outputs": [
        {
          "ename": "ModuleNotFoundError",
          "evalue": "No module named 'google'",
          "output_type": "error",
          "traceback": [
            "\u001b[31m---------------------------------------------------------------------------\u001b[39m",
            "\u001b[31mModuleNotFoundError\u001b[39m                       Traceback (most recent call last)",
            "\u001b[36mCell\u001b[39m\u001b[36m \u001b[39m\u001b[32mIn[5]\u001b[39m\u001b[32m, line 1\u001b[39m\n\u001b[32m----> \u001b[39m\u001b[32m1\u001b[39m \u001b[38;5;28;01mfrom\u001b[39;00m\u001b[38;5;250m \u001b[39m\u001b[34;01mgoogle\u001b[39;00m\u001b[34;01m.\u001b[39;00m\u001b[34;01mcolab\u001b[39;00m\u001b[38;5;250m \u001b[39m\u001b[38;5;28;01mimport\u001b[39;00m files\n\u001b[32m      2\u001b[39m uploaded = files.upload()\n",
            "\u001b[31mModuleNotFoundError\u001b[39m: No module named 'google'"
          ]
        }
      ],
      "source": [
        "\n",
        "from google.colab import files\n",
        "uploaded = files.upload()"
      ]
    },
    {
      "cell_type": "code",
      "execution_count": 7,
      "metadata": {
        "id": "OKlugATPkjMR"
      },
      "outputs": [],
      "source": [
        "df_age = pd.read_csv(\"/Users/diyavora/Desktop/merging/ages.csv\")\n",
        "df_gdp=pd.read_csv(\"/Users/diyavora/Desktop/merging/gdp.csv\",on_bad_lines='skip')\n",
        "df_schools=pd.read_csv(\"/Users/diyavora/Desktop/merging/schools.csv\")"
      ]
    },
    {
      "cell_type": "code",
      "execution_count": 8,
      "metadata": {
        "colab": {
          "base_uri": "https://localhost:8080/",
          "height": 206
        },
        "id": "IEemf4dCluOH",
        "outputId": "3be1c250-415c-4461-b9e7-ddfc7a2b6f41"
      },
      "outputs": [
        {
          "data": {
            "application/vnd.microsoft.datawrangler.viewer.v0+json": {
              "columns": [
                {
                  "name": "index",
                  "rawType": "int64",
                  "type": "integer"
                },
                {
                  "name": "Country",
                  "rawType": "object",
                  "type": "string"
                },
                {
                  "name": "HS_age_population",
                  "rawType": "float64",
                  "type": "float"
                },
                {
                  "name": "HS_age_population_billion",
                  "rawType": "float64",
                  "type": "float"
                },
                {
                  "name": "HS_age_population_pct",
                  "rawType": "float64",
                  "type": "float"
                }
              ],
              "ref": "fc816ba5-40ef-44ab-b5fb-12dae2298da5",
              "rows": [
                [
                  "0",
                  "China",
                  "13777100000.0",
                  "13.777",
                  "19.307"
                ],
                [
                  "1",
                  "India",
                  "12867819000.0",
                  "12.868",
                  "18.033"
                ],
                [
                  "2",
                  "United States of America",
                  "2770717000.0",
                  "2.771",
                  "3.883"
                ],
                [
                  "3",
                  "Indonesia",
                  "2539521000.0",
                  "2.54",
                  "3.559"
                ],
                [
                  "4",
                  "Brazil",
                  "2002351000.0",
                  "2.002",
                  "2.806"
                ]
              ],
              "shape": {
                "columns": 4,
                "rows": 5
              }
            },
            "text/html": [
              "<div>\n",
              "<style scoped>\n",
              "    .dataframe tbody tr th:only-of-type {\n",
              "        vertical-align: middle;\n",
              "    }\n",
              "\n",
              "    .dataframe tbody tr th {\n",
              "        vertical-align: top;\n",
              "    }\n",
              "\n",
              "    .dataframe thead th {\n",
              "        text-align: right;\n",
              "    }\n",
              "</style>\n",
              "<table border=\"1\" class=\"dataframe\">\n",
              "  <thead>\n",
              "    <tr style=\"text-align: right;\">\n",
              "      <th></th>\n",
              "      <th>Country</th>\n",
              "      <th>HS_age_population</th>\n",
              "      <th>HS_age_population_billion</th>\n",
              "      <th>HS_age_population_pct</th>\n",
              "    </tr>\n",
              "  </thead>\n",
              "  <tbody>\n",
              "    <tr>\n",
              "      <th>0</th>\n",
              "      <td>China</td>\n",
              "      <td>1.377710e+10</td>\n",
              "      <td>13.777</td>\n",
              "      <td>19.307</td>\n",
              "    </tr>\n",
              "    <tr>\n",
              "      <th>1</th>\n",
              "      <td>India</td>\n",
              "      <td>1.286782e+10</td>\n",
              "      <td>12.868</td>\n",
              "      <td>18.033</td>\n",
              "    </tr>\n",
              "    <tr>\n",
              "      <th>2</th>\n",
              "      <td>United States of America</td>\n",
              "      <td>2.770717e+09</td>\n",
              "      <td>2.771</td>\n",
              "      <td>3.883</td>\n",
              "    </tr>\n",
              "    <tr>\n",
              "      <th>3</th>\n",
              "      <td>Indonesia</td>\n",
              "      <td>2.539521e+09</td>\n",
              "      <td>2.540</td>\n",
              "      <td>3.559</td>\n",
              "    </tr>\n",
              "    <tr>\n",
              "      <th>4</th>\n",
              "      <td>Brazil</td>\n",
              "      <td>2.002351e+09</td>\n",
              "      <td>2.002</td>\n",
              "      <td>2.806</td>\n",
              "    </tr>\n",
              "  </tbody>\n",
              "</table>\n",
              "</div>"
            ],
            "text/plain": [
              "                    Country  HS_age_population  HS_age_population_billion  \\\n",
              "0                     China       1.377710e+10                     13.777   \n",
              "1                     India       1.286782e+10                     12.868   \n",
              "2  United States of America       2.770717e+09                      2.771   \n",
              "3                 Indonesia       2.539521e+09                      2.540   \n",
              "4                    Brazil       2.002351e+09                      2.002   \n",
              "\n",
              "   HS_age_population_pct  \n",
              "0                 19.307  \n",
              "1                 18.033  \n",
              "2                  3.883  \n",
              "3                  3.559  \n",
              "4                  2.806  "
            ]
          },
          "execution_count": 8,
          "metadata": {},
          "output_type": "execute_result"
        }
      ],
      "source": [
        "#checking if they are loaded\n",
        "df_age.head()"
      ]
    },
    {
      "cell_type": "code",
      "execution_count": 9,
      "metadata": {
        "colab": {
          "base_uri": "https://localhost:8080/",
          "height": 206
        },
        "id": "zTO6Z3OymEbM",
        "outputId": "92a6c99d-d8a2-4d4f-beb7-0faa93a13b79"
      },
      "outputs": [
        {
          "data": {
            "application/vnd.microsoft.datawrangler.viewer.v0+json": {
              "columns": [
                {
                  "name": "index",
                  "rawType": "int64",
                  "type": "integer"
                },
                {
                  "name": "Country Name",
                  "rawType": "object",
                  "type": "string"
                },
                {
                  "name": "GDP per capita (PPP)",
                  "rawType": "float64",
                  "type": "float"
                }
              ],
              "ref": "f6c435b3-f8fa-4008-81d5-30075c1cecd8",
              "rows": [
                [
                  "0",
                  "Africa Eastern and Southern",
                  "4481.24684693644"
                ],
                [
                  "1",
                  "Africa Western and Central",
                  "5639.83073162825"
                ],
                [
                  "2",
                  "Albania",
                  "23488.0989465081"
                ],
                [
                  "3",
                  "Algeria",
                  "17552.7742475631"
                ],
                [
                  "4",
                  "Andorra",
                  "74939.4746038578"
                ]
              ],
              "shape": {
                "columns": 2,
                "rows": 5
              }
            },
            "text/html": [
              "<div>\n",
              "<style scoped>\n",
              "    .dataframe tbody tr th:only-of-type {\n",
              "        vertical-align: middle;\n",
              "    }\n",
              "\n",
              "    .dataframe tbody tr th {\n",
              "        vertical-align: top;\n",
              "    }\n",
              "\n",
              "    .dataframe thead th {\n",
              "        text-align: right;\n",
              "    }\n",
              "</style>\n",
              "<table border=\"1\" class=\"dataframe\">\n",
              "  <thead>\n",
              "    <tr style=\"text-align: right;\">\n",
              "      <th></th>\n",
              "      <th>Country Name</th>\n",
              "      <th>GDP per capita (PPP)</th>\n",
              "    </tr>\n",
              "  </thead>\n",
              "  <tbody>\n",
              "    <tr>\n",
              "      <th>0</th>\n",
              "      <td>Africa Eastern and Southern</td>\n",
              "      <td>4481.246847</td>\n",
              "    </tr>\n",
              "    <tr>\n",
              "      <th>1</th>\n",
              "      <td>Africa Western and Central</td>\n",
              "      <td>5639.830732</td>\n",
              "    </tr>\n",
              "    <tr>\n",
              "      <th>2</th>\n",
              "      <td>Albania</td>\n",
              "      <td>23488.098947</td>\n",
              "    </tr>\n",
              "    <tr>\n",
              "      <th>3</th>\n",
              "      <td>Algeria</td>\n",
              "      <td>17552.774248</td>\n",
              "    </tr>\n",
              "    <tr>\n",
              "      <th>4</th>\n",
              "      <td>Andorra</td>\n",
              "      <td>74939.474604</td>\n",
              "    </tr>\n",
              "  </tbody>\n",
              "</table>\n",
              "</div>"
            ],
            "text/plain": [
              "                  Country Name  GDP per capita (PPP)\n",
              "0  Africa Eastern and Southern           4481.246847\n",
              "1   Africa Western and Central           5639.830732\n",
              "2                      Albania          23488.098947\n",
              "3                      Algeria          17552.774248\n",
              "4                      Andorra          74939.474604"
            ]
          },
          "execution_count": 9,
          "metadata": {},
          "output_type": "execute_result"
        }
      ],
      "source": [
        "df_gdp.head()\n"
      ]
    },
    {
      "cell_type": "code",
      "execution_count": 10,
      "metadata": {
        "colab": {
          "base_uri": "https://localhost:8080/",
          "height": 206
        },
        "id": "ydCUsg37mSoj",
        "outputId": "e52d6fd2-da27-4be9-8185-30bd5b505a94"
      },
      "outputs": [
        {
          "data": {
            "application/vnd.microsoft.datawrangler.viewer.v0+json": {
              "columns": [
                {
                  "name": "index",
                  "rawType": "int64",
                  "type": "integer"
                },
                {
                  "name": "School Name",
                  "rawType": "object",
                  "type": "string"
                },
                {
                  "name": "City",
                  "rawType": "object",
                  "type": "string"
                },
                {
                  "name": "Country",
                  "rawType": "object",
                  "type": "string"
                },
                {
                  "name": "URL",
                  "rawType": "object",
                  "type": "unknown"
                }
              ],
              "ref": "6c26f726-2144-4031-bc28-530d55b9f80b",
              "rows": [
                [
                  "0",
                  "Good Hope Country Day School",
                  "Frederiksted",
                  "-",
                  null
                ],
                [
                  "1",
                  "International Learning Group School (ILG School)",
                  "Pristina",
                  "-",
                  null
                ],
                [
                  "2",
                  "Robinson School",
                  "San Juan",
                  "-",
                  null
                ],
                [
                  "3",
                  "Two Boats School",
                  "Ascension",
                  "-",
                  null
                ],
                [
                  "4",
                  "Virgin Islands Montessori School & Peter Gruber International Academy",
                  "St. Thomas",
                  "-",
                  null
                ]
              ],
              "shape": {
                "columns": 4,
                "rows": 5
              }
            },
            "text/html": [
              "<div>\n",
              "<style scoped>\n",
              "    .dataframe tbody tr th:only-of-type {\n",
              "        vertical-align: middle;\n",
              "    }\n",
              "\n",
              "    .dataframe tbody tr th {\n",
              "        vertical-align: top;\n",
              "    }\n",
              "\n",
              "    .dataframe thead th {\n",
              "        text-align: right;\n",
              "    }\n",
              "</style>\n",
              "<table border=\"1\" class=\"dataframe\">\n",
              "  <thead>\n",
              "    <tr style=\"text-align: right;\">\n",
              "      <th></th>\n",
              "      <th>School Name</th>\n",
              "      <th>City</th>\n",
              "      <th>Country</th>\n",
              "      <th>URL</th>\n",
              "    </tr>\n",
              "  </thead>\n",
              "  <tbody>\n",
              "    <tr>\n",
              "      <th>0</th>\n",
              "      <td>Good Hope Country Day School</td>\n",
              "      <td>Frederiksted</td>\n",
              "      <td>-</td>\n",
              "      <td>NaN</td>\n",
              "    </tr>\n",
              "    <tr>\n",
              "      <th>1</th>\n",
              "      <td>International Learning Group School (ILG School)</td>\n",
              "      <td>Pristina</td>\n",
              "      <td>-</td>\n",
              "      <td>NaN</td>\n",
              "    </tr>\n",
              "    <tr>\n",
              "      <th>2</th>\n",
              "      <td>Robinson School</td>\n",
              "      <td>San Juan</td>\n",
              "      <td>-</td>\n",
              "      <td>NaN</td>\n",
              "    </tr>\n",
              "    <tr>\n",
              "      <th>3</th>\n",
              "      <td>Two Boats School</td>\n",
              "      <td>Ascension</td>\n",
              "      <td>-</td>\n",
              "      <td>NaN</td>\n",
              "    </tr>\n",
              "    <tr>\n",
              "      <th>4</th>\n",
              "      <td>Virgin Islands Montessori School &amp; Peter Grube...</td>\n",
              "      <td>St. Thomas</td>\n",
              "      <td>-</td>\n",
              "      <td>NaN</td>\n",
              "    </tr>\n",
              "  </tbody>\n",
              "</table>\n",
              "</div>"
            ],
            "text/plain": [
              "                                         School Name          City Country  \\\n",
              "0                       Good Hope Country Day School  Frederiksted       -   \n",
              "1   International Learning Group School (ILG School)      Pristina       -   \n",
              "2                                    Robinson School      San Juan       -   \n",
              "3                                   Two Boats School     Ascension       -   \n",
              "4  Virgin Islands Montessori School & Peter Grube...    St. Thomas       -   \n",
              "\n",
              "   URL  \n",
              "0  NaN  \n",
              "1  NaN  \n",
              "2  NaN  \n",
              "3  NaN  \n",
              "4  NaN  "
            ]
          },
          "execution_count": 10,
          "metadata": {},
          "output_type": "execute_result"
        }
      ],
      "source": [
        "df_schools.head()"
      ]
    },
    {
      "cell_type": "code",
      "execution_count": 11,
      "metadata": {
        "colab": {
          "base_uri": "https://localhost:8080/"
        },
        "id": "oauBdNnFvtbR",
        "outputId": "90620557-97cd-4ec9-fccb-4b9402929f42"
      },
      "outputs": [
        {
          "name": "stdout",
          "output_type": "stream",
          "text": [
            "Ages dataset columns: ['Country', 'HS_age_population', 'HS_age_population_billion', 'HS_age_population_pct']\n",
            "GDP dataset columns: ['Country Name', 'GDP per capita (PPP)']\n",
            "Schools dataset columns: ['School Name', 'City', 'Country', 'URL']\n",
            "\n",
            "Sample rows from each:\n",
            "  Country  HS_age_population  HS_age_population_billion  HS_age_population_pct\n",
            "0   China       1.377710e+10                     13.777                 19.307\n",
            "1   India       1.286782e+10                     12.868                 18.033\n",
            "                  Country Name  GDP per capita (PPP)\n",
            "0  Africa Eastern and Southern           4481.246847\n",
            "1   Africa Western and Central           5639.830732\n",
            "                                        School Name          City Country  URL\n",
            "0                      Good Hope Country Day School  Frederiksted       -  NaN\n",
            "1  International Learning Group School (ILG School)      Pristina       -  NaN\n"
          ]
        }
      ],
      "source": [
        "print(\"Ages dataset columns:\", df_age.columns.tolist())\n",
        "print(\"GDP dataset columns:\", df_gdp.columns.tolist())\n",
        "print(\"Schools dataset columns:\", df_schools.columns.tolist())\n",
        "\n",
        "print(\"\\nSample rows from each:\")\n",
        "print(df_age.head(2))\n",
        "print(df_gdp.head(2))\n",
        "print(df_schools.head(2))"
      ]
    },
    {
      "cell_type": "code",
      "execution_count": 12,
      "metadata": {
        "id": "Lv-Xvi4LwEFQ"
      },
      "outputs": [
        {
          "data": {
            "application/vnd.microsoft.datawrangler.viewer.v0+json": {
              "columns": [
                {
                  "name": "index",
                  "rawType": "int64",
                  "type": "integer"
                },
                {
                  "name": "Country",
                  "rawType": "object",
                  "type": "string"
                },
                {
                  "name": "Num_Schools",
                  "rawType": "int64",
                  "type": "integer"
                }
              ],
              "ref": "4cc775e9-db4a-43af-af5f-3b91fdf0d77e",
              "rows": [
                [
                  "0",
                  "-",
                  "5"
                ],
                [
                  "1",
                  "Albania",
                  "4"
                ],
                [
                  "2",
                  "Algeria",
                  "1"
                ],
                [
                  "3",
                  "Angola",
                  "3"
                ],
                [
                  "4",
                  "Anguilla",
                  "1"
                ],
                [
                  "5",
                  "Argentina",
                  "36"
                ],
                [
                  "6",
                  "Armenia",
                  "4"
                ],
                [
                  "7",
                  "Aruba",
                  "1"
                ],
                [
                  "8",
                  "Australia",
                  "61"
                ],
                [
                  "9",
                  "Austria",
                  "17"
                ],
                [
                  "10",
                  "Azerbaijan",
                  "9"
                ],
                [
                  "11",
                  "Bahamas",
                  "6"
                ],
                [
                  "12",
                  "Bahrain",
                  "32"
                ],
                [
                  "13",
                  "Bangladesh",
                  "9"
                ],
                [
                  "14",
                  "Barbados",
                  "3"
                ],
                [
                  "15",
                  "Belgium",
                  "21"
                ],
                [
                  "16",
                  "Bermuda",
                  "5"
                ],
                [
                  "17",
                  "Bolivia",
                  "5"
                ],
                [
                  "18",
                  "Botswana",
                  "4"
                ],
                [
                  "19",
                  "Brazil",
                  "61"
                ],
                [
                  "20",
                  "British Virgin Islands",
                  "1"
                ],
                [
                  "21",
                  "Brunei",
                  "6"
                ],
                [
                  "22",
                  "Bulgaria",
                  "10"
                ],
                [
                  "23",
                  "Burkina Faso",
                  "2"
                ],
                [
                  "24",
                  "Cambodia",
                  "47"
                ],
                [
                  "25",
                  "Cameroon",
                  "4"
                ],
                [
                  "26",
                  "Canada",
                  "72"
                ],
                [
                  "27",
                  "Cayman Islands",
                  "2"
                ],
                [
                  "28",
                  "Chile",
                  "25"
                ],
                [
                  "29",
                  "China",
                  "287"
                ],
                [
                  "30",
                  "Colombia",
                  "40"
                ],
                [
                  "31",
                  "Costa Rica",
                  "22"
                ],
                [
                  "32",
                  "Croatia",
                  "2"
                ],
                [
                  "33",
                  "Cuba",
                  "1"
                ],
                [
                  "34",
                  "Curaçao",
                  "1"
                ],
                [
                  "35",
                  "Cyprus",
                  "9"
                ],
                [
                  "36",
                  "Czech Republic",
                  "21"
                ],
                [
                  "37",
                  "Democratic Republic of the Congo",
                  "1"
                ],
                [
                  "38",
                  "Denmark",
                  "12"
                ],
                [
                  "39",
                  "Djibouti",
                  "1"
                ],
                [
                  "40",
                  "Dominican Republic",
                  "25"
                ],
                [
                  "41",
                  "East Timor",
                  "1"
                ],
                [
                  "42",
                  "Ecuador",
                  "15"
                ],
                [
                  "43",
                  "Egypt",
                  "97"
                ],
                [
                  "44",
                  "El Salvador",
                  "4"
                ],
                [
                  "45",
                  "Eritrea",
                  "1"
                ],
                [
                  "46",
                  "Estonia",
                  "6"
                ],
                [
                  "47",
                  "Eswatini",
                  "1"
                ],
                [
                  "48",
                  "Ethiopia",
                  "14"
                ],
                [
                  "49",
                  "Fiji",
                  "1"
                ]
              ],
              "shape": {
                "columns": 2,
                "rows": 163
              }
            },
            "text/html": [
              "<div>\n",
              "<style scoped>\n",
              "    .dataframe tbody tr th:only-of-type {\n",
              "        vertical-align: middle;\n",
              "    }\n",
              "\n",
              "    .dataframe tbody tr th {\n",
              "        vertical-align: top;\n",
              "    }\n",
              "\n",
              "    .dataframe thead th {\n",
              "        text-align: right;\n",
              "    }\n",
              "</style>\n",
              "<table border=\"1\" class=\"dataframe\">\n",
              "  <thead>\n",
              "    <tr style=\"text-align: right;\">\n",
              "      <th></th>\n",
              "      <th>Country</th>\n",
              "      <th>Num_Schools</th>\n",
              "    </tr>\n",
              "  </thead>\n",
              "  <tbody>\n",
              "    <tr>\n",
              "      <th>0</th>\n",
              "      <td>-</td>\n",
              "      <td>5</td>\n",
              "    </tr>\n",
              "    <tr>\n",
              "      <th>1</th>\n",
              "      <td>Albania</td>\n",
              "      <td>4</td>\n",
              "    </tr>\n",
              "    <tr>\n",
              "      <th>2</th>\n",
              "      <td>Algeria</td>\n",
              "      <td>1</td>\n",
              "    </tr>\n",
              "    <tr>\n",
              "      <th>3</th>\n",
              "      <td>Angola</td>\n",
              "      <td>3</td>\n",
              "    </tr>\n",
              "    <tr>\n",
              "      <th>4</th>\n",
              "      <td>Anguilla</td>\n",
              "      <td>1</td>\n",
              "    </tr>\n",
              "    <tr>\n",
              "      <th>...</th>\n",
              "      <td>...</td>\n",
              "      <td>...</td>\n",
              "    </tr>\n",
              "    <tr>\n",
              "      <th>158</th>\n",
              "      <td>Venezuela</td>\n",
              "      <td>9</td>\n",
              "    </tr>\n",
              "    <tr>\n",
              "      <th>159</th>\n",
              "      <td>Vietnam</td>\n",
              "      <td>63</td>\n",
              "    </tr>\n",
              "    <tr>\n",
              "      <th>160</th>\n",
              "      <td>Yemen</td>\n",
              "      <td>1</td>\n",
              "    </tr>\n",
              "    <tr>\n",
              "      <th>161</th>\n",
              "      <td>Zambia</td>\n",
              "      <td>9</td>\n",
              "    </tr>\n",
              "    <tr>\n",
              "      <th>162</th>\n",
              "      <td>Zimbabwe</td>\n",
              "      <td>1</td>\n",
              "    </tr>\n",
              "  </tbody>\n",
              "</table>\n",
              "<p>163 rows × 2 columns</p>\n",
              "</div>"
            ],
            "text/plain": [
              "       Country  Num_Schools\n",
              "0            -            5\n",
              "1      Albania            4\n",
              "2      Algeria            1\n",
              "3       Angola            3\n",
              "4     Anguilla            1\n",
              "..         ...          ...\n",
              "158  Venezuela            9\n",
              "159    Vietnam           63\n",
              "160      Yemen            1\n",
              "161     Zambia            9\n",
              "162   Zimbabwe            1\n",
              "\n",
              "[163 rows x 2 columns]"
            ]
          },
          "execution_count": 12,
          "metadata": {},
          "output_type": "execute_result"
        }
      ],
      "source": [
        "school_counts = df_schools.groupby('Country')['School Name'].count().reset_index(name='Num_Schools')\n",
        "school_counts"
      ]
    },
    {
      "cell_type": "code",
      "execution_count": null,
      "metadata": {},
      "outputs": [],
      "source": []
    },
    {
      "cell_type": "code",
      "execution_count": 13,
      "metadata": {
        "id": "Yxk4fOOZwRfE"
      },
      "outputs": [],
      "source": [
        "# Standardize column names for merging\n",
        "df_gdp = df_gdp.rename(columns={'Country Name': 'Country'})\n",
        "df_age = df_age.rename(columns={'HS_age_population': 'Youth_Population'})"
      ]
    },
    {
      "cell_type": "code",
      "execution_count": 14,
      "metadata": {
        "id": "_NHQsxCHwUsj"
      },
      "outputs": [],
      "source": [
        "# Merge all three datasets\n",
        "merged = (\n",
        "    school_counts\n",
        "    .merge(df_gdp[['Country', 'GDP per capita (PPP)']], on='Country', how='left')\n",
        "    .merge(df_age[['Country', 'Youth_Population']], on='Country', how='left')\n",
        ")"
      ]
    },
    {
      "cell_type": "code",
      "execution_count": 15,
      "metadata": {
        "colab": {
          "base_uri": "https://localhost:8080/",
          "height": 206
        },
        "id": "NHlp0EJewVto",
        "outputId": "bfaf567d-f57c-4d1e-b1bf-e9d8f379d2ca"
      },
      "outputs": [],
      "source": [
        "merged.head()\n",
        "merged = merged.iloc[1:]"
      ]
    },
    {
      "cell_type": "code",
      "execution_count": 16,
      "metadata": {
        "colab": {
          "base_uri": "https://localhost:8080/",
          "height": 1168
        },
        "id": "dXjhAeQuwbzf",
        "outputId": "54a66b47-f211-44b1-f1cf-90a325889fcd"
      },
      "outputs": [
        {
          "data": {
            "application/vnd.microsoft.datawrangler.viewer.v0+json": {
              "columns": [
                {
                  "name": "index",
                  "rawType": "int64",
                  "type": "integer"
                },
                {
                  "name": "Country",
                  "rawType": "object",
                  "type": "string"
                },
                {
                  "name": "Num_Schools",
                  "rawType": "int64",
                  "type": "integer"
                },
                {
                  "name": "GDP per capita (PPP)",
                  "rawType": "float64",
                  "type": "float"
                },
                {
                  "name": "Youth_Population",
                  "rawType": "float64",
                  "type": "float"
                }
              ],
              "ref": "52181266-fb1a-4d3f-b49d-8f3900da0d31",
              "rows": [
                [
                  "1",
                  "Albania",
                  "4",
                  "23488.0989465081",
                  "37097000.0"
                ],
                [
                  "2",
                  "Algeria",
                  "1",
                  "17552.7742475631",
                  "372104000.0"
                ],
                [
                  "3",
                  "Angola",
                  "3",
                  "8347.95279117055",
                  "222522000.0"
                ],
                [
                  "4",
                  "Anguilla",
                  "1",
                  "28561.3",
                  "145000.0"
                ],
                [
                  "5",
                  "Argentina",
                  "36",
                  "30175.5359656699",
                  "405125000.0"
                ],
                [
                  "6",
                  "Armenia",
                  "4",
                  "22823.1795255692",
                  "36900000.0"
                ],
                [
                  "7",
                  "Aruba",
                  "1",
                  "44967.0",
                  "933000.0"
                ],
                [
                  "8",
                  "Australia",
                  "61",
                  "71193.2158509788",
                  "180756000.0"
                ],
                [
                  "9",
                  "Austria",
                  "17",
                  "71617.9017496321",
                  "75322000.0"
                ],
                [
                  "10",
                  "Azerbaijan",
                  "9",
                  "25088.9501767555",
                  "97282000.0"
                ],
                [
                  "11",
                  "Bahamas",
                  "6",
                  "41197.9183829907",
                  "3419000.0"
                ],
                [
                  "12",
                  "Bahrain",
                  "32",
                  "67210.9890947485",
                  "6876000.0"
                ],
                [
                  "13",
                  "Bangladesh",
                  "9",
                  "9646.76984383255",
                  "1692736000.0"
                ],
                [
                  "14",
                  "Barbados",
                  "3",
                  "22671.9466863479",
                  "3293000.0"
                ],
                [
                  "15",
                  "Belgium",
                  "21",
                  "72126.0028888089",
                  "97646000.0"
                ],
                [
                  "16",
                  "Bermuda",
                  "5",
                  "119718.584667771",
                  "573000.0"
                ],
                [
                  "17",
                  "Bolivia",
                  "5",
                  "11189.8055097036",
                  "110757000.0"
                ],
                [
                  "18",
                  "Botswana",
                  "4",
                  "20538.1320160386",
                  "21034000.0"
                ],
                [
                  "19",
                  "Brazil",
                  "61",
                  "22333.4116642585",
                  "2002351000.0"
                ],
                [
                  "20",
                  "British Virgin Islands",
                  "1",
                  "44515.89592",
                  "205000.0"
                ],
                [
                  "21",
                  "Brunei",
                  "6",
                  "90007.077485547",
                  "3348000.0"
                ],
                [
                  "22",
                  "Bulgaria",
                  "10",
                  "41086.3036455051",
                  "81685000.0"
                ],
                [
                  "23",
                  "Burkina Faso",
                  "2",
                  "2896.18741593759",
                  "173771000.0"
                ],
                [
                  "24",
                  "Cambodia",
                  "47",
                  "7969.93361077408",
                  "153181000.0"
                ],
                [
                  "25",
                  "Cameroon",
                  "4",
                  "5591.49639781706",
                  "205714000.0"
                ],
                [
                  "26",
                  "Canada",
                  "72",
                  "65463.0990993361",
                  "289214000.0"
                ],
                [
                  "27",
                  "Cayman Islands",
                  "2",
                  null,
                  "294000.0"
                ],
                [
                  "28",
                  "Chile",
                  "25",
                  "34637.1168279143",
                  "173578000.0"
                ],
                [
                  "29",
                  "China",
                  "287",
                  "27104.8702677463",
                  "13777100000.0"
                ],
                [
                  "30",
                  "Colombia",
                  "40",
                  "21494.6002713853",
                  "470489000.0"
                ],
                [
                  "31",
                  "Costa Rica",
                  "22",
                  "30062.849160468",
                  "42709000.0"
                ],
                [
                  "32",
                  "Croatia",
                  "2",
                  "48575.4314219866",
                  "45599000.0"
                ],
                [
                  "33",
                  "Cuba",
                  "1",
                  "7433.43",
                  "122169000.0"
                ],
                [
                  "34",
                  "Curaçao",
                  "1",
                  null,
                  "2012000.0"
                ],
                [
                  "35",
                  "Cyprus",
                  "9",
                  "61239.9375",
                  "9743000.0"
                ],
                [
                  "36",
                  "Czech Republic",
                  "21",
                  "56805.6467676779",
                  "101539000.0"
                ],
                [
                  "37",
                  "Democratic Republic of the Congo",
                  "1",
                  "1709.73207724172",
                  "685796000.0"
                ],
                [
                  "38",
                  "Denmark",
                  "12",
                  "79514.2854383058",
                  "52058000.0"
                ],
                [
                  "39",
                  "Djibouti",
                  "1",
                  "7776.22613645201",
                  "8232000.0"
                ],
                [
                  "40",
                  "Dominican Republic",
                  "25",
                  "27541.183570599",
                  "108756000.0"
                ],
                [
                  "41",
                  "East Timor",
                  "1",
                  "4758.39202005466",
                  "12913000.0"
                ],
                [
                  "42",
                  "Ecuador",
                  "15",
                  "15840.2668567412",
                  "155904000.0"
                ],
                [
                  "43",
                  "Egypt",
                  "97",
                  "19094.1449444111",
                  "900865000.0"
                ],
                [
                  "44",
                  "El Salvador",
                  "4",
                  "13264.027090968",
                  "78762000.0"
                ],
                [
                  "45",
                  "Eritrea",
                  "1",
                  "2162.0",
                  "32878000.0"
                ],
                [
                  "46",
                  "Estonia",
                  "6",
                  "49333.8067758296",
                  "13806000.0"
                ],
                [
                  "47",
                  "Eswatini",
                  "1",
                  "11784.2800637308",
                  "13335000.0"
                ],
                [
                  "48",
                  "Ethiopia",
                  "14",
                  "3278.48967257937",
                  "927468000.0"
                ],
                [
                  "49",
                  "Fiji",
                  "1",
                  "16032.257408619",
                  "10782000.0"
                ],
                [
                  "50",
                  "Finland",
                  "2",
                  "64091.2251829548",
                  "51967000.0"
                ]
              ],
              "shape": {
                "columns": 4,
                "rows": 162
              }
            },
            "text/html": [
              "<div>\n",
              "<style scoped>\n",
              "    .dataframe tbody tr th:only-of-type {\n",
              "        vertical-align: middle;\n",
              "    }\n",
              "\n",
              "    .dataframe tbody tr th {\n",
              "        vertical-align: top;\n",
              "    }\n",
              "\n",
              "    .dataframe thead th {\n",
              "        text-align: right;\n",
              "    }\n",
              "</style>\n",
              "<table border=\"1\" class=\"dataframe\">\n",
              "  <thead>\n",
              "    <tr style=\"text-align: right;\">\n",
              "      <th></th>\n",
              "      <th>Country</th>\n",
              "      <th>Num_Schools</th>\n",
              "      <th>GDP per capita (PPP)</th>\n",
              "      <th>Youth_Population</th>\n",
              "    </tr>\n",
              "  </thead>\n",
              "  <tbody>\n",
              "    <tr>\n",
              "      <th>1</th>\n",
              "      <td>Albania</td>\n",
              "      <td>4</td>\n",
              "      <td>23488.098947</td>\n",
              "      <td>37097000.0</td>\n",
              "    </tr>\n",
              "    <tr>\n",
              "      <th>2</th>\n",
              "      <td>Algeria</td>\n",
              "      <td>1</td>\n",
              "      <td>17552.774248</td>\n",
              "      <td>372104000.0</td>\n",
              "    </tr>\n",
              "    <tr>\n",
              "      <th>3</th>\n",
              "      <td>Angola</td>\n",
              "      <td>3</td>\n",
              "      <td>8347.952791</td>\n",
              "      <td>222522000.0</td>\n",
              "    </tr>\n",
              "    <tr>\n",
              "      <th>4</th>\n",
              "      <td>Anguilla</td>\n",
              "      <td>1</td>\n",
              "      <td>28561.300000</td>\n",
              "      <td>145000.0</td>\n",
              "    </tr>\n",
              "    <tr>\n",
              "      <th>5</th>\n",
              "      <td>Argentina</td>\n",
              "      <td>36</td>\n",
              "      <td>30175.535966</td>\n",
              "      <td>405125000.0</td>\n",
              "    </tr>\n",
              "    <tr>\n",
              "      <th>...</th>\n",
              "      <td>...</td>\n",
              "      <td>...</td>\n",
              "      <td>...</td>\n",
              "      <td>...</td>\n",
              "    </tr>\n",
              "    <tr>\n",
              "      <th>158</th>\n",
              "      <td>Venezuela</td>\n",
              "      <td>9</td>\n",
              "      <td>8404.000000</td>\n",
              "      <td>287449000.0</td>\n",
              "    </tr>\n",
              "    <tr>\n",
              "      <th>159</th>\n",
              "      <td>Vietnam</td>\n",
              "      <td>63</td>\n",
              "      <td>16385.506557</td>\n",
              "      <td>894347000.0</td>\n",
              "    </tr>\n",
              "    <tr>\n",
              "      <th>160</th>\n",
              "      <td>Yemen</td>\n",
              "      <td>1</td>\n",
              "      <td>1996.000000</td>\n",
              "      <td>272163000.0</td>\n",
              "    </tr>\n",
              "    <tr>\n",
              "      <th>161</th>\n",
              "      <td>Zambia</td>\n",
              "      <td>9</td>\n",
              "      <td>4223.950208</td>\n",
              "      <td>150325000.0</td>\n",
              "    </tr>\n",
              "    <tr>\n",
              "      <th>162</th>\n",
              "      <td>Zimbabwe</td>\n",
              "      <td>1</td>\n",
              "      <td>3921.697956</td>\n",
              "      <td>163028000.0</td>\n",
              "    </tr>\n",
              "  </tbody>\n",
              "</table>\n",
              "<p>162 rows × 4 columns</p>\n",
              "</div>"
            ],
            "text/plain": [
              "       Country  Num_Schools  GDP per capita (PPP)  Youth_Population\n",
              "1      Albania            4          23488.098947        37097000.0\n",
              "2      Algeria            1          17552.774248       372104000.0\n",
              "3       Angola            3           8347.952791       222522000.0\n",
              "4     Anguilla            1          28561.300000          145000.0\n",
              "5    Argentina           36          30175.535966       405125000.0\n",
              "..         ...          ...                   ...               ...\n",
              "158  Venezuela            9           8404.000000       287449000.0\n",
              "159    Vietnam           63          16385.506557       894347000.0\n",
              "160      Yemen            1           1996.000000       272163000.0\n",
              "161     Zambia            9           4223.950208       150325000.0\n",
              "162   Zimbabwe            1           3921.697956       163028000.0\n",
              "\n",
              "[162 rows x 4 columns]"
            ]
          },
          "execution_count": 16,
          "metadata": {},
          "output_type": "execute_result"
        }
      ],
      "source": [
        "merged"
      ]
    },
    {
      "cell_type": "code",
      "execution_count": 17,
      "metadata": {
        "colab": {
          "base_uri": "https://localhost:8080/"
        },
        "id": "8gIJQWu-wrx5",
        "outputId": "54586678-8778-4600-dfeb-666e311c37af"
      },
      "outputs": [
        {
          "data": {
            "text/plain": [
              "(162, 4)"
            ]
          },
          "execution_count": 17,
          "metadata": {},
          "output_type": "execute_result"
        }
      ],
      "source": [
        "merged.shape"
      ]
    },
    {
      "cell_type": "code",
      "execution_count": 21,
      "metadata": {},
      "outputs": [
        {
          "ename": "KeyError",
          "evalue": "'Youth Population'",
          "output_type": "error",
          "traceback": [
            "\u001b[31m---------------------------------------------------------------------------\u001b[39m",
            "\u001b[31mKeyError\u001b[39m                                  Traceback (most recent call last)",
            "\u001b[36mFile \u001b[39m\u001b[32m/Library/Frameworks/Python.framework/Versions/3.12/lib/python3.12/site-packages/pandas/core/indexes/base.py:3805\u001b[39m, in \u001b[36mIndex.get_loc\u001b[39m\u001b[34m(self, key)\u001b[39m\n\u001b[32m   3804\u001b[39m \u001b[38;5;28;01mtry\u001b[39;00m:\n\u001b[32m-> \u001b[39m\u001b[32m3805\u001b[39m     \u001b[38;5;28;01mreturn\u001b[39;00m \u001b[38;5;28;43mself\u001b[39;49m\u001b[43m.\u001b[49m\u001b[43m_engine\u001b[49m\u001b[43m.\u001b[49m\u001b[43mget_loc\u001b[49m\u001b[43m(\u001b[49m\u001b[43mcasted_key\u001b[49m\u001b[43m)\u001b[49m\n\u001b[32m   3806\u001b[39m \u001b[38;5;28;01mexcept\u001b[39;00m \u001b[38;5;167;01mKeyError\u001b[39;00m \u001b[38;5;28;01mas\u001b[39;00m err:\n",
            "\u001b[36mFile \u001b[39m\u001b[32mindex.pyx:167\u001b[39m, in \u001b[36mpandas._libs.index.IndexEngine.get_loc\u001b[39m\u001b[34m()\u001b[39m\n",
            "\u001b[36mFile \u001b[39m\u001b[32mindex.pyx:196\u001b[39m, in \u001b[36mpandas._libs.index.IndexEngine.get_loc\u001b[39m\u001b[34m()\u001b[39m\n",
            "\u001b[36mFile \u001b[39m\u001b[32mpandas/_libs/hashtable_class_helper.pxi:7081\u001b[39m, in \u001b[36mpandas._libs.hashtable.PyObjectHashTable.get_item\u001b[39m\u001b[34m()\u001b[39m\n",
            "\u001b[36mFile \u001b[39m\u001b[32mpandas/_libs/hashtable_class_helper.pxi:7089\u001b[39m, in \u001b[36mpandas._libs.hashtable.PyObjectHashTable.get_item\u001b[39m\u001b[34m()\u001b[39m\n",
            "\u001b[31mKeyError\u001b[39m: 'Youth Population'",
            "\nThe above exception was the direct cause of the following exception:\n",
            "\u001b[31mKeyError\u001b[39m                                  Traceback (most recent call last)",
            "\u001b[36mCell\u001b[39m\u001b[36m \u001b[39m\u001b[32mIn[21]\u001b[39m\u001b[32m, line 10\u001b[39m\n\u001b[32m      4\u001b[39m merged[\u001b[33m'\u001b[39m\u001b[33mGDP_scaled\u001b[39m\u001b[33m'\u001b[39m] = (merged[\u001b[33m'\u001b[39m\u001b[33mGDP per capita (PPP)\u001b[39m\u001b[33m'\u001b[39m] - merged[\u001b[33m'\u001b[39m\u001b[33mGDP per capita (PPP)\u001b[39m\u001b[33m'\u001b[39m].min()) / \\\n\u001b[32m      5\u001b[39m                        (merged[\u001b[33m'\u001b[39m\u001b[33mGDP per capita (PPP)\u001b[39m\u001b[33m'\u001b[39m].max() - merged[\u001b[33m'\u001b[39m\u001b[33mGDP per capita (PPP)\u001b[39m\u001b[33m'\u001b[39m].min())\n\u001b[32m      7\u001b[39m merged[\u001b[33m'\u001b[39m\u001b[33mSchools_scaled\u001b[39m\u001b[33m'\u001b[39m] = (merged[\u001b[33m'\u001b[39m\u001b[33mNum_Schools\u001b[39m\u001b[33m'\u001b[39m] - merged[\u001b[33m'\u001b[39m\u001b[33mNum_Schools\u001b[39m\u001b[33m'\u001b[39m].min()) / \\\n\u001b[32m      8\u001b[39m                            (merged[\u001b[33m'\u001b[39m\u001b[33mNum_Schools\u001b[39m\u001b[33m'\u001b[39m].max() - merged[\u001b[33m'\u001b[39m\u001b[33mNum_Schools\u001b[39m\u001b[33m'\u001b[39m].min())\n\u001b[32m---> \u001b[39m\u001b[32m10\u001b[39m merged[\u001b[33m'\u001b[39m\u001b[33mYouth_scaled\u001b[39m\u001b[33m'\u001b[39m] = (\u001b[43mmerged\u001b[49m\u001b[43m[\u001b[49m\u001b[33;43m'\u001b[39;49m\u001b[33;43mYouth Population\u001b[39;49m\u001b[33;43m'\u001b[39;49m\u001b[43m]\u001b[49m - merged[\u001b[33m'\u001b[39m\u001b[33mYouth Population\u001b[39m\u001b[33m'\u001b[39m].min()) / \\\n\u001b[32m     11\u001b[39m                          (merged[\u001b[33m'\u001b[39m\u001b[33mYouth Population\u001b[39m\u001b[33m'\u001b[39m].max() - merged[\u001b[33m'\u001b[39m\u001b[33mYouth Population\u001b[39m\u001b[33m'\u001b[39m].min())\n\u001b[32m     13\u001b[39m \u001b[38;5;66;03m# Invert youth scaling so fewer youths = higher score\u001b[39;00m\n\u001b[32m     14\u001b[39m merged[\u001b[33m'\u001b[39m\u001b[33mYouth_scaled_inverted\u001b[39m\u001b[33m'\u001b[39m] = \u001b[32m1\u001b[39m - merged[\u001b[33m'\u001b[39m\u001b[33mYouth_scaled\u001b[39m\u001b[33m'\u001b[39m]\n",
            "\u001b[36mFile \u001b[39m\u001b[32m/Library/Frameworks/Python.framework/Versions/3.12/lib/python3.12/site-packages/pandas/core/frame.py:4102\u001b[39m, in \u001b[36mDataFrame.__getitem__\u001b[39m\u001b[34m(self, key)\u001b[39m\n\u001b[32m   4100\u001b[39m \u001b[38;5;28;01mif\u001b[39;00m \u001b[38;5;28mself\u001b[39m.columns.nlevels > \u001b[32m1\u001b[39m:\n\u001b[32m   4101\u001b[39m     \u001b[38;5;28;01mreturn\u001b[39;00m \u001b[38;5;28mself\u001b[39m._getitem_multilevel(key)\n\u001b[32m-> \u001b[39m\u001b[32m4102\u001b[39m indexer = \u001b[38;5;28;43mself\u001b[39;49m\u001b[43m.\u001b[49m\u001b[43mcolumns\u001b[49m\u001b[43m.\u001b[49m\u001b[43mget_loc\u001b[49m\u001b[43m(\u001b[49m\u001b[43mkey\u001b[49m\u001b[43m)\u001b[49m\n\u001b[32m   4103\u001b[39m \u001b[38;5;28;01mif\u001b[39;00m is_integer(indexer):\n\u001b[32m   4104\u001b[39m     indexer = [indexer]\n",
            "\u001b[36mFile \u001b[39m\u001b[32m/Library/Frameworks/Python.framework/Versions/3.12/lib/python3.12/site-packages/pandas/core/indexes/base.py:3812\u001b[39m, in \u001b[36mIndex.get_loc\u001b[39m\u001b[34m(self, key)\u001b[39m\n\u001b[32m   3807\u001b[39m     \u001b[38;5;28;01mif\u001b[39;00m \u001b[38;5;28misinstance\u001b[39m(casted_key, \u001b[38;5;28mslice\u001b[39m) \u001b[38;5;129;01mor\u001b[39;00m (\n\u001b[32m   3808\u001b[39m         \u001b[38;5;28misinstance\u001b[39m(casted_key, abc.Iterable)\n\u001b[32m   3809\u001b[39m         \u001b[38;5;129;01mand\u001b[39;00m \u001b[38;5;28many\u001b[39m(\u001b[38;5;28misinstance\u001b[39m(x, \u001b[38;5;28mslice\u001b[39m) \u001b[38;5;28;01mfor\u001b[39;00m x \u001b[38;5;129;01min\u001b[39;00m casted_key)\n\u001b[32m   3810\u001b[39m     ):\n\u001b[32m   3811\u001b[39m         \u001b[38;5;28;01mraise\u001b[39;00m InvalidIndexError(key)\n\u001b[32m-> \u001b[39m\u001b[32m3812\u001b[39m     \u001b[38;5;28;01mraise\u001b[39;00m \u001b[38;5;167;01mKeyError\u001b[39;00m(key) \u001b[38;5;28;01mfrom\u001b[39;00m\u001b[38;5;250m \u001b[39m\u001b[34;01merr\u001b[39;00m\n\u001b[32m   3813\u001b[39m \u001b[38;5;28;01mexcept\u001b[39;00m \u001b[38;5;167;01mTypeError\u001b[39;00m:\n\u001b[32m   3814\u001b[39m     \u001b[38;5;66;03m# If we have a listlike key, _check_indexing_error will raise\u001b[39;00m\n\u001b[32m   3815\u001b[39m     \u001b[38;5;66;03m#  InvalidIndexError. Otherwise we fall through and re-raise\u001b[39;00m\n\u001b[32m   3816\u001b[39m     \u001b[38;5;66;03m#  the TypeError.\u001b[39;00m\n\u001b[32m   3817\u001b[39m     \u001b[38;5;28mself\u001b[39m._check_indexing_error(key)\n",
            "\u001b[31mKeyError\u001b[39m: 'Youth Population'"
          ]
        }
      ],
      "source": [
        "merged['GDP_scaled'] = (merged['GDP per capita (PPP)'] - merged['GDP per capita (PPP)'].min()) / \\\n",
        "                       (merged['GDP per capita (PPP)'].max() - merged['GDP per capita (PPP)'].min())\n",
        "\n",
        "merged['Schools_scaled'] = (merged['Num_Schools'] - merged['Num_Schools'].min()) / \\\n",
        "                           (merged['Num_Schools'].max() - merged['Num_Schools'].min())\n",
        "\n",
        "merged['Youth_scaled'] = (merged['Youth_Population'] - merged['Youth_Population'].min()) / \\\n",
        "                         (merged['Youth_Population'].max() - merged['Youth_Population'].min())\n",
        "\n",
        "# Invert youth: smaller youth population = higher per-capita opportunity\n",
        "merged['Youth_scaled_inverted'] = 1 - merged['Youth_scaled']\n",
        "\n",
        "merged['F1_scaled'] = (merged['F1_Visas'] - merged['F1_Visas'].min()) / \\\n",
        "                      (merged['F1_Visas'].max() - merged['F1_Visas'].min())\n"
      ]
    }
  ],
  "metadata": {
    "colab": {
      "provenance": []
    },
    "kernelspec": {
      "display_name": "Python 3",
      "name": "python3"
    },
    "language_info": {
      "codemirror_mode": {
        "name": "ipython",
        "version": 3
      },
      "file_extension": ".py",
      "mimetype": "text/x-python",
      "name": "python",
      "nbconvert_exporter": "python",
      "pygments_lexer": "ipython3",
      "version": "3.12.1"
    }
  },
  "nbformat": 4,
  "nbformat_minor": 0
}
